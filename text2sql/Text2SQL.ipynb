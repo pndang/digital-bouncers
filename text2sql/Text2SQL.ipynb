{
  "cells": [
    {
      "cell_type": "code",
      "execution_count": null,
      "metadata": {
        "id": "w9F7uAFtGKKd"
      },
      "outputs": [],
      "source": [
        "from langchain.utilities import SQLDatabase\n",
        "from langchain.llms import OpenAI\n",
        "from langchain.agents import create_sql_agent\n",
        "from langchain.agents.agent_toolkits import SQLDatabaseToolkit\n",
        "from langchain.agents.agent_types import AgentType"
      ]
    },
    {
      "cell_type": "code",
      "execution_count": null,
      "metadata": {
        "colab": {
          "base_uri": "https://localhost:8080/",
          "height": 791
        },
        "id": "SVIJAdBsGZnC",
        "outputId": "ade23ffe-4e6c-48b8-e2a3-47f866fac4ac"
      },
      "outputs": [],
      "source": [
        "import os\n",
        "import psycopg2\n",
        "import pandas as pd\n",
        "from dotenv import load_dotenv\n",
        "\n",
        "load_dotenv()\n",
        "# PostgreSQL database connection parameters\n",
        "db_params = {\n",
        "    \"dbname\": \"\",\n",
        "    \"user\": \"\",\n",
        "    \"password\": \"\",\n",
        "    \"host\": \"\",\n",
        "    \"port\": \"\"\n",
        "}\n",
        "\n",
        "db = SQLDatabase.from_uri(\"postgresql://udtgpmu99n4j6r:p94fcaffade361eec929012ea55a59a0038a1794ee7363349212b44ebf2e33a1c@cd5gks8n4kb20g.cluster-czrs8kj4isg7.us-east-1.rds.amazonaws.com:5432/d8qdtku8976m7a\", include_tables=[\"smart_home_data\"])\n",
        "\n",
        "# Define SQL query\n",
        "query= \"\"\"\n",
        "SELECT * FROM smart_home_data\n",
        "\"\"\"\n",
        "\n",
        "with psycopg2.connect(**db_params) as conn:\n",
        "    with conn.cursor() as cur:\n",
        "        cur.execute(query)\n",
        "        data = cur.fetchall()\n",
        "        column_names = [desc[0] for desc in cur.description]  # Get column names\n",
        "\n",
        "# Convert to Pandas DataFrame\n",
        "df = pd.DataFrame(data, columns=column_names)\n",
        "df"
      ]
    },
    {
      "cell_type": "code",
      "execution_count": null,
      "metadata": {
        "id": "BQtf9iVIH8Mx"
      },
      "outputs": [],
      "source": [
        "llm = OpenAI(temperature=0, verbose=True, openai_api_key=\"\")"
      ]
    },
    {
      "cell_type": "code",
      "execution_count": null,
      "metadata": {
        "id": "NRAjV3NyIPWZ"
      },
      "outputs": [],
      "source": [
        "agent_executor = create_sql_agent(\n",
        "    llm=llm,\n",
        "    toolkit=SQLDatabaseToolkit(db=db, llm=llm),\n",
        "    verbose=True,\n",
        "    agent_type=AgentType.ZERO_SHOT_REACT_DESCRIPTION,\n",
        ")"
      ]
    },
    {
      "cell_type": "markdown",
      "metadata": {
        "id": "D884gg0tfsTa"
      },
      "source": [
        "# Prompt 1"
      ]
    },
    {
      "cell_type": "code",
      "execution_count": null,
      "metadata": {
        "colab": {
          "base_uri": "https://localhost:8080/"
        },
        "id": "8254OVI2q6Su",
        "outputId": "ee18d367-d903-46ed-8423-59bac72608ab"
      },
      "outputs": [],
      "source": [
        "df.columns"
      ]
    },
    {
      "cell_type": "code",
      "execution_count": null,
      "metadata": {
        "colab": {
          "base_uri": "https://localhost:8080/",
          "height": 398
        },
        "id": "FMDF2kIhhxda",
        "outputId": "4ddb5f2f-26f6-49d4-9e93-018ce5f22c7e"
      },
      "outputs": [],
      "source": [
        "prompt1_df = df.copy()\n",
        "prompt1_df['month'] = prompt1_df['timestamp'].dt.month\n",
        "august_appliances = prompt1_df[prompt1_df['month'] == 8][['dishwasher', 'furnace_1', 'furnace_2', 'home_office', 'fridge', 'wine_cellar', 'garage_door', 'barn', 'well', 'microwave']]\n",
        "august_appliances.sum().sort_values(ascending=False)"
      ]
    },
    {
      "cell_type": "code",
      "execution_count": null,
      "metadata": {
        "colab": {
          "base_uri": "https://localhost:8080/"
        },
        "id": "Gi61ojN9IXNC",
        "outputId": "d10d6248-22eb-4132-d9d5-a4fcc9592a88"
      },
      "outputs": [],
      "source": [
        "prompt1_output = agent_executor.run(\"In August, which appliance ('dishwasher', 'furnace_1', 'furnace_2', 'home_office', 'fridge', 'wine_cellar', 'garage_door', 'barn', 'well', 'microwave') consumed the most energy?\")"
      ]
    },
    {
      "cell_type": "code",
      "execution_count": null,
      "metadata": {
        "colab": {
          "base_uri": "https://localhost:8080/",
          "height": 35
        },
        "id": "rTGmCtfBNMp6",
        "outputId": "42c4dcc9-73e1-468a-b13d-d6b8ad0d338e"
      },
      "outputs": [],
      "source": [
        "prompt1_output"
      ]
    },
    {
      "cell_type": "markdown",
      "metadata": {
        "id": "c5_0pLOxvFu8"
      },
      "source": [
        "# Prompt 2"
      ]
    },
    {
      "cell_type": "code",
      "execution_count": null,
      "metadata": {
        "colab": {
          "base_uri": "https://localhost:8080/",
          "height": 52
        },
        "id": "VUmApGFMMSWs",
        "outputId": "0c8e0bc5-3bc9-4ea0-b607-ae26fd1d2366"
      },
      "outputs": [],
      "source": [
        "test_output2"
      ]
    },
    {
      "cell_type": "code",
      "execution_count": null,
      "metadata": {
        "colab": {
          "base_uri": "https://localhost:8080/"
        },
        "id": "cziZ95gGIkw_",
        "outputId": "263052a8-b569-476b-ee04-cbbb06a43a25"
      },
      "outputs": [],
      "source": [
        "test_output2 = agent_executor.run(\"I am really trying to save as much money as I can. Since the fridge is consuming the most energy, can I turn it off at some times?\")"
      ]
    },
    {
      "cell_type": "code",
      "execution_count": null,
      "metadata": {
        "id": "Y9jyopE4vHjZ"
      },
      "outputs": [],
      "source": []
    },
    {
      "cell_type": "markdown",
      "metadata": {
        "id": "406FyzUK2IgR"
      },
      "source": [
        "# Prompt 3"
      ]
    },
    {
      "cell_type": "code",
      "execution_count": null,
      "metadata": {
        "id": "xV6zmdC-2KLv"
      },
      "outputs": [],
      "source": [
        "import plotly.express as px"
      ]
    },
    {
      "cell_type": "code",
      "execution_count": null,
      "metadata": {
        "colab": {
          "base_uri": "https://localhost:8080/",
          "height": 477
        },
        "id": "lS7itX_82dse",
        "outputId": "c0112ad3-46b9-4b19-e7f1-29d8a9151066"
      },
      "outputs": [],
      "source": [
        "grouped_by_month = df.copy()\n",
        "grouped_by_month['month'] = grouped_by_month['timestamp'].dt.month\n",
        "grouped_by_month = grouped_by_month[['month', 'dishwasher', 'furnace_1', 'furnace_2', 'home_office', 'fridge', 'wine_cellar', 'garage_door', 'barn', 'well', 'microwave']]\n",
        "grouped_by_month = grouped_by_month.groupby('month').sum()\n",
        "grouped_by_month"
      ]
    },
    {
      "cell_type": "code",
      "execution_count": null,
      "metadata": {
        "colab": {
          "base_uri": "https://localhost:8080/",
          "height": 542
        },
        "id": "20yxRSGZ4HNa",
        "outputId": "200d1f1d-1c38-49e5-a33b-cf62361f6a80"
      },
      "outputs": [],
      "source": [
        "px.line(grouped_by_month)"
      ]
    },
    {
      "cell_type": "code",
      "execution_count": null,
      "metadata": {
        "colab": {
          "base_uri": "https://localhost:8080/"
        },
        "id": "EqclPhlY5qwW",
        "outputId": "cdb6729c-4fea-4ded-ee20-769441aae803"
      },
      "outputs": [],
      "source": [
        "prompt3_output = agent_executor.run(\"What were the general energy consumption trends month by month?\")"
      ]
    },
    {
      "cell_type": "code",
      "execution_count": null,
      "metadata": {
        "id": "D-ORodVa7H5r"
      },
      "outputs": [],
      "source": []
    },
    {
      "cell_type": "markdown",
      "metadata": {
        "id": "6dzSvGHo7Qh1"
      },
      "source": [
        "# Prompt 4"
      ]
    },
    {
      "cell_type": "code",
      "execution_count": null,
      "metadata": {
        "colab": {
          "base_uri": "https://localhost:8080/",
          "height": 490
        },
        "id": "nXdLL1dV7S7y",
        "outputId": "2f3a5a60-ee49-4ef6-c0bd-b4813652ad1a"
      },
      "outputs": [],
      "source": [
        "appliance_df = df.copy()\n",
        "appliance_df = appliance_df[['timestamp', 'dishwasher', 'furnace_1', 'furnace_2', 'home_office', 'fridge', 'wine_cellar', 'garage_door', 'barn', 'well', 'microwave']]\n",
        "appliance_df['date'] = appliance_df['timestamp'].dt.date\n",
        "appliance_df = appliance_df.drop(columns=['timestamp'])\n",
        "appliance_df = appliance_df.groupby('date').sum()\n",
        "appliance_df = appliance_df.sum(axis=1)\n",
        "appliance_df.sort_values(ascending=False)"
      ]
    },
    {
      "cell_type": "code",
      "execution_count": null,
      "metadata": {
        "colab": {
          "base_uri": "https://localhost:8080/"
        },
        "id": "ZSu2MYeK7wnS",
        "outputId": "293fbd11-6d8c-4f68-c6a8-eedf3a672740"
      },
      "outputs": [],
      "source": [
        "prompt4_output = agent_executor.run(\"Which day did I consume the most energy among the appliances?\")"
      ]
    },
    {
      "cell_type": "code",
      "execution_count": null,
      "metadata": {
        "id": "pmdG0_CE-FYE"
      },
      "outputs": [],
      "source": []
    }
  ],
  "metadata": {
    "colab": {
      "provenance": [],
      "toc_visible": true
    },
    "kernelspec": {
      "display_name": "Python 3",
      "name": "python3"
    },
    "language_info": {
      "name": "python"
    }
  },
  "nbformat": 4,
  "nbformat_minor": 0
}
