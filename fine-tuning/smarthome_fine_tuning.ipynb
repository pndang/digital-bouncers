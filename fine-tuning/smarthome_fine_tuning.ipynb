{
 "cells": [
  {
   "cell_type": "code",
   "execution_count": 1,
   "metadata": {},
   "outputs": [
    {
     "name": "stdout",
     "output_type": "stream",
     "text": [
      "WARNING:tensorflow:From c:\\Users\\Bofu Zou\\AppData\\Local\\Programs\\Python\\Python310\\lib\\site-packages\\tf_keras\\src\\losses.py:2976: The name tf.losses.sparse_softmax_cross_entropy is deprecated. Please use tf.compat.v1.losses.sparse_softmax_cross_entropy instead.\n",
      "\n"
     ]
    }
   ],
   "source": [
    "from transformers import AutoTokenizer\n",
    "from datasets import load_dataset\n",
    "import evaluate\n",
    "from transformers import AutoModelForCausalLM\n",
    "from transformers import AutoTokenizer, AutoModelForSeq2SeqLM, Seq2SeqTrainingArguments, Seq2SeqTrainer\n",
    "from transformers import Trainer, TrainingArguments\n",
    "import transformers\n",
    "transformers.set_seed(35)\n",
    "from datasets import Features, Value, Dataset, DatasetDict\n",
    "import comet_ml\n",
    "import comet_llm\n",
    "import os\n",
    "import numpy as np\n",
    "import pickle\n",
    "import json\n",
    "import pandas as pd\n",
    "import torch\n",
    "\n",
    "device = torch.device(\"cuda\" if torch.cuda.is_available() else \"cpu\")"
   ]
  },
  {
   "cell_type": "code",
   "execution_count": 2,
   "metadata": {},
   "outputs": [
    {
     "name": "stdout",
     "output_type": "stream",
     "text": [
      "         time  use [kW]  gen [kW]  House overall [kW]  Dishwasher [kW]  \\\n",
      "0  1451624400  0.932833  0.003483            0.932833         0.000033   \n",
      "1  1451624401  0.934333  0.003467            0.934333         0.000000   \n",
      "2  1451624402  0.931817  0.003467            0.931817         0.000017   \n",
      "3  1451624403  1.022050  0.003483            1.022050         0.000017   \n",
      "4  1451624404  1.139400  0.003467            1.139400         0.000133   \n",
      "\n",
      "   Furnace 1 [kW]  Furnace 2 [kW]  Home office [kW]  Fridge [kW]  \\\n",
      "0        0.020700        0.061917          0.442633     0.124150   \n",
      "1        0.020717        0.063817          0.444067     0.124000   \n",
      "2        0.020700        0.062317          0.446067     0.123533   \n",
      "3        0.106900        0.068517          0.446583     0.123133   \n",
      "4        0.236933        0.063983          0.446533     0.122850   \n",
      "\n",
      "   Wine cellar [kW]  ...  visibility  summary  apparentTemperature  pressure  \\\n",
      "0          0.006983  ...        10.0    Clear                29.26   1016.91   \n",
      "1          0.006983  ...        10.0    Clear                29.26   1016.91   \n",
      "2          0.006983  ...        10.0    Clear                29.26   1016.91   \n",
      "3          0.006983  ...        10.0    Clear                29.26   1016.91   \n",
      "4          0.006850  ...        10.0    Clear                29.26   1016.91   \n",
      "\n",
      "   windSpeed  cloudCover  windBearing  precipIntensity  dewPoint  \\\n",
      "0       9.18  cloudCover        282.0              0.0      24.4   \n",
      "1       9.18  cloudCover        282.0              0.0      24.4   \n",
      "2       9.18  cloudCover        282.0              0.0      24.4   \n",
      "3       9.18  cloudCover        282.0              0.0      24.4   \n",
      "4       9.18  cloudCover        282.0              0.0      24.4   \n",
      "\n",
      "   precipProbability  \n",
      "0                0.0  \n",
      "1                0.0  \n",
      "2                0.0  \n",
      "3                0.0  \n",
      "4                0.0  \n",
      "\n",
      "[5 rows x 32 columns]\n"
     ]
    },
    {
     "name": "stderr",
     "output_type": "stream",
     "text": [
      "C:\\Users\\Bofu Zou\\AppData\\Local\\Temp\\ipykernel_1532\\1706268692.py:4: DtypeWarning: Columns (0,27) have mixed types. Specify dtype option on import or set low_memory=False.\n",
      "  df = pd.read_csv(file_path)\n"
     ]
    }
   ],
   "source": [
    "import pandas as pd\n",
    "\n",
    "file_path = \"data/HomeC.csv\"\n",
    "df = pd.read_csv(file_path)\n",
    "\n",
    "# Display the first few rows of the dataset\n",
    "print(df.head())"
   ]
  },
  {
   "cell_type": "code",
   "execution_count": 3,
   "metadata": {},
   "outputs": [],
   "source": [
    "# Rename columns to remove spaces and the kW unit \n",
    "df.columns = [col[:-5].replace(' ','_') if 'kW' in col else col for col in df.columns]\n",
    "\n",
    "# Drop rows with nan values \n",
    "df = df.dropna()\n",
    "\n",
    "# The columns \"use\" and \"house_overall\" are the same, so let's remove the 'house_overall' column\n",
    "df.drop(['House_overall'], axis=1, inplace=True)\n",
    "\n",
    "# The columns \"gen\" and \"solar\" are the same, so let's remove the 'solar' column\n",
    "df.drop(['Solar'], axis=1, inplace=True)\n",
    "\n",
    "# drop rows with cloudCover column values that are not numeric (bug in sensors) and convert column to numeric\n",
    "df = df[df['cloudCover']!='cloudCover']\n",
    "df[\"cloudCover\"] = pd.to_numeric(df[\"cloudCover\"])\n",
    "\n",
    "# Create columns that regroup kitchens and furnaces \n",
    "df['kitchen'] = df['Kitchen_12'] + df['Kitchen_14'] + df['Kitchen_38']\n",
    "df['Furnace'] = df['Furnace_1'] + df['Furnace_2']\n",
    "\n",
    "# Convert \"time\" column (which is a unix timestamp) to a Y-m-d H-M-S \n",
    "import time \n",
    "start_time = time.strftime('%Y-%m-%d %H:%M:%S', time.localtime(int(df['time'].iloc[0])))\n",
    "time_index = pd.date_range(start_time, periods=len(df), freq='min')  \n",
    "time_index = pd.DatetimeIndex(time_index)\n",
    "df = df.set_index(time_index)\n",
    "df = df.drop(['time'], axis=1)"
   ]
  },
  {
   "cell_type": "code",
   "execution_count": 4,
   "metadata": {},
   "outputs": [
    {
     "data": {
      "text/plain": [
       "Index(['use', 'gen', 'Dishwasher', 'Furnace_1', 'Furnace_2', 'Home_office',\n",
       "       'Fridge', 'Wine_cellar', 'Garage_door', 'Kitchen_12', 'Kitchen_14',\n",
       "       'Kitchen_38', 'Barn', 'Well', 'Microwave', 'Living_room', 'temperature',\n",
       "       'icon', 'humidity', 'visibility', 'summary', 'apparentTemperature',\n",
       "       'pressure', 'windSpeed', 'cloudCover', 'windBearing', 'precipIntensity',\n",
       "       'dewPoint', 'precipProbability', 'kitchen', 'Furnace'],\n",
       "      dtype='object')"
      ]
     },
     "execution_count": 4,
     "metadata": {},
     "output_type": "execute_result"
    }
   ],
   "source": [
    "df.columns"
   ]
  },
  {
   "cell_type": "code",
   "execution_count": null,
   "metadata": {},
   "outputs": [
    {
     "name": "stdout",
     "output_type": "stream",
     "text": [
      "Transformed dataset saved to homec_prompts_responses.jsonl\n",
      "Transformed dataset saved to homec_prompts_responses.jsonl\n"
     ]
    }
   ],
   "source": [
    "output_file = \"homec_prompts_responses.jsonl\"\n",
    "\n",
    "# Create prompt-response pairs and save to JSONL\n",
    "with open(output_file, \"w\") as f:\n",
    "    for index, row in df.iterrows():\n",
    "        # Create a prompt asking for all feature values\n",
    "        prompt = f\"What are the details of the home energy and environmental metrics at {index}?\"\n",
    "        \n",
    "        # Create a natural language response for all columns\n",
    "        response_parts = []\n",
    "        for column in df.columns:\n",
    "            if column in [\"use\", \"Furnance_1\", \"Furnance_2\", \"Home_office\", \"Wine_cellar\", \"Garage_door\", \"Barn\", \"Well\", \"Living_room\",\n",
    "                          \"Kitchen_12\", \"Kitchen_14\", \"Kitchen_38\", \"kitchen\", \"Dishwasher\", \"Furnace\", \"Microwave\", \"Fridge\"]:\n",
    "                response_parts.append(f\"{column.replace('_', ' ')} uses {row[column]} energy\")\n",
    "            elif column in [\"temperature\", \"humidity\", \"apparentTemperature\", \"dewPoint\", \"visibility\", \"pressure\", \"windSpeed\",\n",
    "                             \"cloudCover\", \"windBearing\", \"precipIntensity\", \"precipProbability\"]:\n",
    "                response_parts.append(f\"{column.replace('_', ' ')} is {row[column]}\")\n",
    "            elif column in [\"icon\", \"summary\"]:\n",
    "                response_parts.append(f\"{column} indicates '{row[column]}'\")\n",
    "            else:\n",
    "                response_parts.append(f\"{column.replace('_', ' ')} is {row[column]}\")\n",
    "\n",
    "        # Join the response parts into a single text\n",
    "        response = \". \".join(response_parts) + \".\"\n",
    "\n",
    "        # Write the prompt-response pair to the JSONL file\n",
    "        json_line = {\"prompt\": prompt, \"completion\": response}\n",
    "        f.write(json.dumps(json_line) + \"\\n\")\n",
    "\n",
    "print(f\"Transformed dataset saved to {output_file}\")"
   ]
  },
  {
   "cell_type": "code",
   "execution_count": 6,
   "metadata": {},
   "outputs": [
    {
     "data": {
      "application/vnd.jupyter.widget-view+json": {
       "model_id": "65a0991e113a42f5b9aebd466a759c3c",
       "version_major": 2,
       "version_minor": 0
      },
      "text/plain": [
       "Generating train split: 0 examples [00:00, ? examples/s]"
      ]
     },
     "metadata": {},
     "output_type": "display_data"
    },
    {
     "name": "stdout",
     "output_type": "stream",
     "text": [
      "{'prompt': 'What are the details of the home energy and environmental metrics at 2016-01-25 06:01:58?', 'completion': \"use uses 0.591866667 energy. gen is 0.33925. Dishwasher uses 0.000233333 energy. Furnace 1 is 0.459266667. Furnace 2 is 0.191. Home office uses 0.039866667 energy. Fridge uses 0.004833333 energy. Wine cellar uses 0.00715 energy. Garage door uses 0.012366667 energy. Kitchen 12 uses 0.00075 energy. Kitchen 14 uses 0.000216667 energy. Kitchen 38 uses 0.0 energy. Barn uses 0.028883333 energy. Well uses 0.001 energy. Microwave uses 0.004 energy. Living room uses 0.001433333 energy. temperature is 25.52. icon indicates 'clear-night'. humidity is 0.81. visibility is 9.43. summary indicates 'Clear'. apparentTemperature is 20.49. pressure is 1018.89. windSpeed is 4.08. cloudCover is 0.05. windBearing is 178.0. precipIntensity is 0.0. dewPoint is 20.42. precipProbability is 0.0. kitchen uses 0.000966667 energy. Furnace uses 0.650266667 energy.\"}\n"
     ]
    }
   ],
   "source": [
    "# Load the dataset from your JSONL file\n",
    "dataset = load_dataset(\"json\", data_files=\"homec_prompts_responses.jsonl\")\n",
    "\n",
    "# Split the dataset into training and validation sets\n",
    "dataset = dataset[\"train\"].train_test_split(test_size=0.1)\n",
    "train_dataset = dataset[\"train\"]\n",
    "val_dataset = dataset[\"test\"]\n",
    "\n",
    "# Inspect the dataset structure\n",
    "print(train_dataset[0])\n"
   ]
  },
  {
   "cell_type": "code",
   "execution_count": 7,
   "metadata": {},
   "outputs": [],
   "source": [
    "model_name = \"google/flan-t5-base\"\n",
    "tokenizer = AutoTokenizer.from_pretrained(model_name)\n",
    "model = AutoModelForSeq2SeqLM.from_pretrained(model_name)"
   ]
  },
  {
   "cell_type": "code",
   "execution_count": 8,
   "metadata": {},
   "outputs": [
    {
     "data": {
      "application/vnd.jupyter.widget-view+json": {
       "model_id": "a1c2a4317e6848e48decce51407702bc",
       "version_major": 2,
       "version_minor": 0
      },
      "text/plain": [
       "Map:   0%|          | 0/453466 [00:00<?, ? examples/s]"
      ]
     },
     "metadata": {},
     "output_type": "display_data"
    },
    {
     "data": {
      "application/vnd.jupyter.widget-view+json": {
       "model_id": "770b2d09c3da4d9abd1d171f8bf3d900",
       "version_major": 2,
       "version_minor": 0
      },
      "text/plain": [
       "Map:   0%|          | 0/50386 [00:00<?, ? examples/s]"
      ]
     },
     "metadata": {},
     "output_type": "display_data"
    }
   ],
   "source": [
    "def preprocess_function(examples):\n",
    "    return tokenizer(\n",
    "        examples[\"prompt\"],\n",
    "        text_target=examples[\"completion\"],\n",
    "        padding=\"max_length\",\n",
    "        truncation=True,\n",
    "        max_length=128,\n",
    "    )\n",
    "\n",
    "# Tokenize datasets\n",
    "tokenized_train = train_dataset.map(preprocess_function, batched=True)\n",
    "tokenized_val = val_dataset.map(preprocess_function, batched=True)"
   ]
  },
  {
   "cell_type": "code",
   "execution_count": 9,
   "metadata": {},
   "outputs": [
    {
     "name": "stderr",
     "output_type": "stream",
     "text": [
      "c:\\Users\\Bofu Zou\\AppData\\Local\\Programs\\Python\\Python310\\lib\\site-packages\\transformers\\training_args.py:1575: FutureWarning: `evaluation_strategy` is deprecated and will be removed in version 4.46 of 🤗 Transformers. Use `eval_strategy` instead\n",
      "  warnings.warn(\n",
      "comet_ml is installed but the Comet API Key is not configured. Please set the `COMET_API_KEY` environment variable to enable Comet logging. Check out the documentation for other ways of configuring it: https://www.comet.com/docs/v2/guides/experiment-management/configure-sdk/#set-the-api-key\n"
     ]
    }
   ],
   "source": [
    "training_args = TrainingArguments(\n",
    "    output_dir=\"./fine_tuned_model\",\n",
    "    evaluation_strategy=\"epoch\",\n",
    "    learning_rate=5e-5,\n",
    "    per_device_train_batch_size=8,\n",
    "    num_train_epochs=3,\n",
    "    save_total_limit=2,\n",
    "    weight_decay=0.01,\n",
    "    logging_dir=\"./logs\",\n",
    "    push_to_hub=False,\n",
    ")"
   ]
  },
  {
   "cell_type": "code",
   "execution_count": 10,
   "metadata": {},
   "outputs": [
    {
     "name": "stderr",
     "output_type": "stream",
     "text": [
      "C:\\Users\\Bofu Zou\\AppData\\Local\\Temp\\ipykernel_1532\\2096050398.py:1: FutureWarning: `tokenizer` is deprecated and will be removed in version 5.0.0 for `Trainer.__init__`. Use `processing_class` instead.\n",
      "  trainer = Trainer(\n",
      "Passing a tuple of `past_key_values` is deprecated and will be removed in Transformers v4.48.0. You should pass an instance of `EncoderDecoderCache` instead, e.g. `past_key_values=EncoderDecoderCache.from_legacy_cache(past_key_values)`.\n"
     ]
    },
    {
     "data": {
      "text/html": [
       "\n",
       "    <div>\n",
       "      \n",
       "      <progress value='170052' max='170052' style='width:300px; height:20px; vertical-align: middle;'></progress>\n",
       "      [170052/170052 8:29:02, Epoch 3/3]\n",
       "    </div>\n",
       "    <table border=\"1\" class=\"dataframe\">\n",
       "  <thead>\n",
       " <tr style=\"text-align: left;\">\n",
       "      <th>Epoch</th>\n",
       "      <th>Training Loss</th>\n",
       "      <th>Validation Loss</th>\n",
       "    </tr>\n",
       "  </thead>\n",
       "  <tbody>\n",
       "    <tr>\n",
       "      <td>1</td>\n",
       "      <td>0.514300</td>\n",
       "      <td>0.493130</td>\n",
       "    </tr>\n",
       "    <tr>\n",
       "      <td>2</td>\n",
       "      <td>0.489600</td>\n",
       "      <td>0.467416</td>\n",
       "    </tr>\n",
       "    <tr>\n",
       "      <td>3</td>\n",
       "      <td>0.477700</td>\n",
       "      <td>0.458459</td>\n",
       "    </tr>\n",
       "  </tbody>\n",
       "</table><p>"
      ],
      "text/plain": [
       "<IPython.core.display.HTML object>"
      ]
     },
     "metadata": {},
     "output_type": "display_data"
    },
    {
     "data": {
      "text/plain": [
       "TrainOutput(global_step=170052, training_loss=0.513531099184459, metrics={'train_runtime': 30542.9759, 'train_samples_per_second': 44.54, 'train_steps_per_second': 5.568, 'total_flos': 2.3288563318888858e+17, 'train_loss': 0.513531099184459, 'epoch': 3.0})"
      ]
     },
     "execution_count": 10,
     "metadata": {},
     "output_type": "execute_result"
    }
   ],
   "source": [
    "trainer = Trainer(\n",
    "    model=model.to(\"cuda\"),\n",
    "    args=training_args,\n",
    "    train_dataset=tokenized_train,\n",
    "    eval_dataset=tokenized_val,\n",
    "    tokenizer=tokenizer,\n",
    ")\n",
    "\n",
    "# Fine-tune the model\n",
    "trainer.train()"
   ]
  },
  {
   "cell_type": "code",
   "execution_count": 11,
   "metadata": {},
   "outputs": [
    {
     "data": {
      "text/plain": [
       "('./fine_tuned_model\\\\tokenizer_config.json',\n",
       " './fine_tuned_model\\\\special_tokens_map.json',\n",
       " './fine_tuned_model\\\\spiece.model',\n",
       " './fine_tuned_model\\\\added_tokens.json',\n",
       " './fine_tuned_model\\\\tokenizer.json')"
      ]
     },
     "execution_count": 11,
     "metadata": {},
     "output_type": "execute_result"
    }
   ],
   "source": [
    "model.save_pretrained(\"./fine_tuned_model\")\n",
    "tokenizer.save_pretrained(\"./fine_tuned_model\")"
   ]
  },
  {
   "cell_type": "code",
   "execution_count": null,
   "metadata": {},
   "outputs": [
    {
     "name": "stderr",
     "output_type": "stream",
     "text": [
      "Device set to use cuda:0\n"
     ]
    },
    {
     "name": "stdout",
     "output_type": "stream",
     "text": [
      "use uses 0.3098 energy. gen is 0.00345. Dishwasher uses 0.0 energy. Furnace 1 is 0.020766667. Furnace 2 is 0.0641. Home office uses 0.0\n"
     ]
    },
    {
     "ename": "",
     "evalue": "",
     "output_type": "error",
     "traceback": [
      "\u001b[1;31mThe Kernel crashed while executing code in the current cell or a previous cell. \n",
      "\u001b[1;31mPlease review the code in the cell(s) to identify a possible cause of the failure. \n",
      "\u001b[1;31mClick <a href='https://aka.ms/vscodeJupyterKernelCrash'>here</a> for more info. \n",
      "\u001b[1;31mView Jupyter <a href='command:jupyter.viewOutput'>log</a> for further details."
     ]
    }
   ],
   "source": [
    "from transformers import pipeline\n",
    "\n",
    "# Load the fine-tuned model\n",
    "fine_tuned_model = pipeline(\"text2text-generation\", model=\"./fine_tuned_model\", tokenizer=tokenizer)\n",
    "\n",
    "# Test with a query\n",
    "query = \"What are the details of the home energy and environmental metric at 2015-12-31 21:03:58\"\n",
    "response = fine_tuned_model(query, max_length=50)\n",
    "print(response[0][\"generated_text\"])"
   ]
  },
  {
   "cell_type": "code",
   "execution_count": 21,
   "metadata": {},
   "outputs": [
    {
     "data": {
      "text/html": [
       "<div>\n",
       "<style scoped>\n",
       "    .dataframe tbody tr th:only-of-type {\n",
       "        vertical-align: middle;\n",
       "    }\n",
       "\n",
       "    .dataframe tbody tr th {\n",
       "        vertical-align: top;\n",
       "    }\n",
       "\n",
       "    .dataframe thead th {\n",
       "        text-align: right;\n",
       "    }\n",
       "</style>\n",
       "<table border=\"1\" class=\"dataframe\">\n",
       "  <thead>\n",
       "    <tr style=\"text-align: right;\">\n",
       "      <th></th>\n",
       "      <th>use</th>\n",
       "      <th>gen</th>\n",
       "      <th>Dishwasher</th>\n",
       "      <th>Furnace_1</th>\n",
       "      <th>Furnace_2</th>\n",
       "      <th>Home_office</th>\n",
       "      <th>Fridge</th>\n",
       "      <th>Wine_cellar</th>\n",
       "      <th>Garage_door</th>\n",
       "      <th>Kitchen_12</th>\n",
       "      <th>...</th>\n",
       "      <th>apparentTemperature</th>\n",
       "      <th>pressure</th>\n",
       "      <th>windSpeed</th>\n",
       "      <th>cloudCover</th>\n",
       "      <th>windBearing</th>\n",
       "      <th>precipIntensity</th>\n",
       "      <th>dewPoint</th>\n",
       "      <th>precipProbability</th>\n",
       "      <th>kitchen</th>\n",
       "      <th>Furnace</th>\n",
       "    </tr>\n",
       "  </thead>\n",
       "  <tbody>\n",
       "    <tr>\n",
       "      <th>2015-12-31 21:00:58</th>\n",
       "      <td>0.714200</td>\n",
       "      <td>0.003417</td>\n",
       "      <td>0.000033</td>\n",
       "      <td>0.021083</td>\n",
       "      <td>0.309983</td>\n",
       "      <td>0.043067</td>\n",
       "      <td>0.005167</td>\n",
       "      <td>0.123317</td>\n",
       "      <td>0.013183</td>\n",
       "      <td>0.000667</td>\n",
       "      <td>...</td>\n",
       "      <td>29.40</td>\n",
       "      <td>1016.25</td>\n",
       "      <td>8.29</td>\n",
       "      <td>0.75</td>\n",
       "      <td>285.0</td>\n",
       "      <td>0.0000</td>\n",
       "      <td>23.90</td>\n",
       "      <td>0.00</td>\n",
       "      <td>0.000733</td>\n",
       "      <td>0.331067</td>\n",
       "    </tr>\n",
       "    <tr>\n",
       "      <th>2015-12-31 21:01:58</th>\n",
       "      <td>0.497067</td>\n",
       "      <td>0.003417</td>\n",
       "      <td>0.000017</td>\n",
       "      <td>0.096983</td>\n",
       "      <td>0.062867</td>\n",
       "      <td>0.043283</td>\n",
       "      <td>0.005000</td>\n",
       "      <td>0.123283</td>\n",
       "      <td>0.012883</td>\n",
       "      <td>0.000750</td>\n",
       "      <td>...</td>\n",
       "      <td>29.40</td>\n",
       "      <td>1016.25</td>\n",
       "      <td>8.29</td>\n",
       "      <td>0.75</td>\n",
       "      <td>285.0</td>\n",
       "      <td>0.0000</td>\n",
       "      <td>23.90</td>\n",
       "      <td>0.00</td>\n",
       "      <td>0.000833</td>\n",
       "      <td>0.159850</td>\n",
       "    </tr>\n",
       "    <tr>\n",
       "      <th>2015-12-31 21:02:58</th>\n",
       "      <td>0.465133</td>\n",
       "      <td>0.003450</td>\n",
       "      <td>0.000017</td>\n",
       "      <td>0.064500</td>\n",
       "      <td>0.062633</td>\n",
       "      <td>0.043250</td>\n",
       "      <td>0.005017</td>\n",
       "      <td>0.123350</td>\n",
       "      <td>0.012950</td>\n",
       "      <td>0.000717</td>\n",
       "      <td>...</td>\n",
       "      <td>29.40</td>\n",
       "      <td>1016.25</td>\n",
       "      <td>8.29</td>\n",
       "      <td>0.75</td>\n",
       "      <td>285.0</td>\n",
       "      <td>0.0000</td>\n",
       "      <td>23.90</td>\n",
       "      <td>0.00</td>\n",
       "      <td>0.000817</td>\n",
       "      <td>0.127133</td>\n",
       "    </tr>\n",
       "    <tr>\n",
       "      <th>2015-12-31 21:03:58</th>\n",
       "      <td>0.512933</td>\n",
       "      <td>0.003417</td>\n",
       "      <td>0.000017</td>\n",
       "      <td>0.111333</td>\n",
       "      <td>0.063883</td>\n",
       "      <td>0.043300</td>\n",
       "      <td>0.004967</td>\n",
       "      <td>0.123867</td>\n",
       "      <td>0.012883</td>\n",
       "      <td>0.000733</td>\n",
       "      <td>...</td>\n",
       "      <td>29.40</td>\n",
       "      <td>1016.25</td>\n",
       "      <td>8.29</td>\n",
       "      <td>0.75</td>\n",
       "      <td>285.0</td>\n",
       "      <td>0.0000</td>\n",
       "      <td>23.90</td>\n",
       "      <td>0.00</td>\n",
       "      <td>0.000833</td>\n",
       "      <td>0.175217</td>\n",
       "    </tr>\n",
       "    <tr>\n",
       "      <th>2015-12-31 21:04:58</th>\n",
       "      <td>0.651283</td>\n",
       "      <td>0.003417</td>\n",
       "      <td>0.000017</td>\n",
       "      <td>0.114583</td>\n",
       "      <td>0.063200</td>\n",
       "      <td>0.043283</td>\n",
       "      <td>0.114167</td>\n",
       "      <td>0.124267</td>\n",
       "      <td>0.012917</td>\n",
       "      <td>0.000467</td>\n",
       "      <td>...</td>\n",
       "      <td>29.40</td>\n",
       "      <td>1016.25</td>\n",
       "      <td>8.29</td>\n",
       "      <td>0.75</td>\n",
       "      <td>285.0</td>\n",
       "      <td>0.0000</td>\n",
       "      <td>23.90</td>\n",
       "      <td>0.00</td>\n",
       "      <td>0.000500</td>\n",
       "      <td>0.177783</td>\n",
       "    </tr>\n",
       "    <tr>\n",
       "      <th>...</th>\n",
       "      <td>...</td>\n",
       "      <td>...</td>\n",
       "      <td>...</td>\n",
       "      <td>...</td>\n",
       "      <td>...</td>\n",
       "      <td>...</td>\n",
       "      <td>...</td>\n",
       "      <td>...</td>\n",
       "      <td>...</td>\n",
       "      <td>...</td>\n",
       "      <td>...</td>\n",
       "      <td>...</td>\n",
       "      <td>...</td>\n",
       "      <td>...</td>\n",
       "      <td>...</td>\n",
       "      <td>...</td>\n",
       "      <td>...</td>\n",
       "      <td>...</td>\n",
       "      <td>...</td>\n",
       "      <td>...</td>\n",
       "      <td>...</td>\n",
       "    </tr>\n",
       "    <tr>\n",
       "      <th>2016-12-15 18:27:58</th>\n",
       "      <td>1.601233</td>\n",
       "      <td>0.003183</td>\n",
       "      <td>0.000050</td>\n",
       "      <td>0.085267</td>\n",
       "      <td>0.642417</td>\n",
       "      <td>0.041783</td>\n",
       "      <td>0.005267</td>\n",
       "      <td>0.008667</td>\n",
       "      <td>0.013483</td>\n",
       "      <td>0.000467</td>\n",
       "      <td>...</td>\n",
       "      <td>29.45</td>\n",
       "      <td>1011.49</td>\n",
       "      <td>6.72</td>\n",
       "      <td>0.31</td>\n",
       "      <td>186.0</td>\n",
       "      <td>0.0101</td>\n",
       "      <td>31.27</td>\n",
       "      <td>0.51</td>\n",
       "      <td>0.000633</td>\n",
       "      <td>0.727683</td>\n",
       "    </tr>\n",
       "    <tr>\n",
       "      <th>2016-12-15 18:28:58</th>\n",
       "      <td>1.599333</td>\n",
       "      <td>0.003233</td>\n",
       "      <td>0.000050</td>\n",
       "      <td>0.104017</td>\n",
       "      <td>0.625033</td>\n",
       "      <td>0.041750</td>\n",
       "      <td>0.005233</td>\n",
       "      <td>0.008433</td>\n",
       "      <td>0.013433</td>\n",
       "      <td>0.000467</td>\n",
       "      <td>...</td>\n",
       "      <td>29.45</td>\n",
       "      <td>1011.49</td>\n",
       "      <td>6.72</td>\n",
       "      <td>0.31</td>\n",
       "      <td>186.0</td>\n",
       "      <td>0.0101</td>\n",
       "      <td>31.27</td>\n",
       "      <td>0.51</td>\n",
       "      <td>0.000600</td>\n",
       "      <td>0.729050</td>\n",
       "    </tr>\n",
       "    <tr>\n",
       "      <th>2016-12-15 18:29:58</th>\n",
       "      <td>1.924267</td>\n",
       "      <td>0.003217</td>\n",
       "      <td>0.000033</td>\n",
       "      <td>0.422383</td>\n",
       "      <td>0.637733</td>\n",
       "      <td>0.042033</td>\n",
       "      <td>0.004983</td>\n",
       "      <td>0.008467</td>\n",
       "      <td>0.012933</td>\n",
       "      <td>0.000533</td>\n",
       "      <td>...</td>\n",
       "      <td>29.45</td>\n",
       "      <td>1011.49</td>\n",
       "      <td>6.72</td>\n",
       "      <td>0.31</td>\n",
       "      <td>186.0</td>\n",
       "      <td>0.0101</td>\n",
       "      <td>31.27</td>\n",
       "      <td>0.51</td>\n",
       "      <td>0.000600</td>\n",
       "      <td>1.060117</td>\n",
       "    </tr>\n",
       "    <tr>\n",
       "      <th>2016-12-15 18:30:58</th>\n",
       "      <td>1.978200</td>\n",
       "      <td>0.003217</td>\n",
       "      <td>0.000050</td>\n",
       "      <td>0.495667</td>\n",
       "      <td>0.620367</td>\n",
       "      <td>0.042100</td>\n",
       "      <td>0.005333</td>\n",
       "      <td>0.008233</td>\n",
       "      <td>0.012817</td>\n",
       "      <td>0.000517</td>\n",
       "      <td>...</td>\n",
       "      <td>29.45</td>\n",
       "      <td>1011.49</td>\n",
       "      <td>6.72</td>\n",
       "      <td>0.31</td>\n",
       "      <td>186.0</td>\n",
       "      <td>0.0101</td>\n",
       "      <td>31.27</td>\n",
       "      <td>0.51</td>\n",
       "      <td>0.000650</td>\n",
       "      <td>1.116033</td>\n",
       "    </tr>\n",
       "    <tr>\n",
       "      <th>2016-12-15 18:31:58</th>\n",
       "      <td>1.990950</td>\n",
       "      <td>0.003233</td>\n",
       "      <td>0.000050</td>\n",
       "      <td>0.494700</td>\n",
       "      <td>0.634133</td>\n",
       "      <td>0.042100</td>\n",
       "      <td>0.004917</td>\n",
       "      <td>0.008133</td>\n",
       "      <td>0.012833</td>\n",
       "      <td>0.000517</td>\n",
       "      <td>...</td>\n",
       "      <td>29.45</td>\n",
       "      <td>1011.49</td>\n",
       "      <td>6.72</td>\n",
       "      <td>0.31</td>\n",
       "      <td>186.0</td>\n",
       "      <td>0.0101</td>\n",
       "      <td>31.27</td>\n",
       "      <td>0.51</td>\n",
       "      <td>0.000650</td>\n",
       "      <td>1.128833</td>\n",
       "    </tr>\n",
       "  </tbody>\n",
       "</table>\n",
       "<p>503852 rows × 31 columns</p>\n",
       "</div>"
      ],
      "text/plain": [
       "                          use       gen  Dishwasher  Furnace_1  Furnace_2  \\\n",
       "2015-12-31 21:00:58  0.714200  0.003417    0.000033   0.021083   0.309983   \n",
       "2015-12-31 21:01:58  0.497067  0.003417    0.000017   0.096983   0.062867   \n",
       "2015-12-31 21:02:58  0.465133  0.003450    0.000017   0.064500   0.062633   \n",
       "2015-12-31 21:03:58  0.512933  0.003417    0.000017   0.111333   0.063883   \n",
       "2015-12-31 21:04:58  0.651283  0.003417    0.000017   0.114583   0.063200   \n",
       "...                       ...       ...         ...        ...        ...   \n",
       "2016-12-15 18:27:58  1.601233  0.003183    0.000050   0.085267   0.642417   \n",
       "2016-12-15 18:28:58  1.599333  0.003233    0.000050   0.104017   0.625033   \n",
       "2016-12-15 18:29:58  1.924267  0.003217    0.000033   0.422383   0.637733   \n",
       "2016-12-15 18:30:58  1.978200  0.003217    0.000050   0.495667   0.620367   \n",
       "2016-12-15 18:31:58  1.990950  0.003233    0.000050   0.494700   0.634133   \n",
       "\n",
       "                     Home_office    Fridge  Wine_cellar  Garage_door  \\\n",
       "2015-12-31 21:00:58     0.043067  0.005167     0.123317     0.013183   \n",
       "2015-12-31 21:01:58     0.043283  0.005000     0.123283     0.012883   \n",
       "2015-12-31 21:02:58     0.043250  0.005017     0.123350     0.012950   \n",
       "2015-12-31 21:03:58     0.043300  0.004967     0.123867     0.012883   \n",
       "2015-12-31 21:04:58     0.043283  0.114167     0.124267     0.012917   \n",
       "...                          ...       ...          ...          ...   \n",
       "2016-12-15 18:27:58     0.041783  0.005267     0.008667     0.013483   \n",
       "2016-12-15 18:28:58     0.041750  0.005233     0.008433     0.013433   \n",
       "2016-12-15 18:29:58     0.042033  0.004983     0.008467     0.012933   \n",
       "2016-12-15 18:30:58     0.042100  0.005333     0.008233     0.012817   \n",
       "2016-12-15 18:31:58     0.042100  0.004917     0.008133     0.012833   \n",
       "\n",
       "                     Kitchen_12  ...  apparentTemperature  pressure  \\\n",
       "2015-12-31 21:00:58    0.000667  ...                29.40   1016.25   \n",
       "2015-12-31 21:01:58    0.000750  ...                29.40   1016.25   \n",
       "2015-12-31 21:02:58    0.000717  ...                29.40   1016.25   \n",
       "2015-12-31 21:03:58    0.000733  ...                29.40   1016.25   \n",
       "2015-12-31 21:04:58    0.000467  ...                29.40   1016.25   \n",
       "...                         ...  ...                  ...       ...   \n",
       "2016-12-15 18:27:58    0.000467  ...                29.45   1011.49   \n",
       "2016-12-15 18:28:58    0.000467  ...                29.45   1011.49   \n",
       "2016-12-15 18:29:58    0.000533  ...                29.45   1011.49   \n",
       "2016-12-15 18:30:58    0.000517  ...                29.45   1011.49   \n",
       "2016-12-15 18:31:58    0.000517  ...                29.45   1011.49   \n",
       "\n",
       "                     windSpeed  cloudCover  windBearing  precipIntensity  \\\n",
       "2015-12-31 21:00:58       8.29        0.75        285.0           0.0000   \n",
       "2015-12-31 21:01:58       8.29        0.75        285.0           0.0000   \n",
       "2015-12-31 21:02:58       8.29        0.75        285.0           0.0000   \n",
       "2015-12-31 21:03:58       8.29        0.75        285.0           0.0000   \n",
       "2015-12-31 21:04:58       8.29        0.75        285.0           0.0000   \n",
       "...                        ...         ...          ...              ...   \n",
       "2016-12-15 18:27:58       6.72        0.31        186.0           0.0101   \n",
       "2016-12-15 18:28:58       6.72        0.31        186.0           0.0101   \n",
       "2016-12-15 18:29:58       6.72        0.31        186.0           0.0101   \n",
       "2016-12-15 18:30:58       6.72        0.31        186.0           0.0101   \n",
       "2016-12-15 18:31:58       6.72        0.31        186.0           0.0101   \n",
       "\n",
       "                     dewPoint precipProbability   kitchen   Furnace  \n",
       "2015-12-31 21:00:58     23.90              0.00  0.000733  0.331067  \n",
       "2015-12-31 21:01:58     23.90              0.00  0.000833  0.159850  \n",
       "2015-12-31 21:02:58     23.90              0.00  0.000817  0.127133  \n",
       "2015-12-31 21:03:58     23.90              0.00  0.000833  0.175217  \n",
       "2015-12-31 21:04:58     23.90              0.00  0.000500  0.177783  \n",
       "...                       ...               ...       ...       ...  \n",
       "2016-12-15 18:27:58     31.27              0.51  0.000633  0.727683  \n",
       "2016-12-15 18:28:58     31.27              0.51  0.000600  0.729050  \n",
       "2016-12-15 18:29:58     31.27              0.51  0.000600  1.060117  \n",
       "2016-12-15 18:30:58     31.27              0.51  0.000650  1.116033  \n",
       "2016-12-15 18:31:58     31.27              0.51  0.000650  1.128833  \n",
       "\n",
       "[503852 rows x 31 columns]"
      ]
     },
     "execution_count": 21,
     "metadata": {},
     "output_type": "execute_result"
    }
   ],
   "source": [
    "df"
   ]
  },
  {
   "cell_type": "code",
   "execution_count": null,
   "metadata": {},
   "outputs": [],
   "source": []
  }
 ],
 "metadata": {
  "kernelspec": {
   "display_name": "Python 3",
   "language": "python",
   "name": "python3"
  },
  "language_info": {
   "codemirror_mode": {
    "name": "ipython",
    "version": 3
   },
   "file_extension": ".py",
   "mimetype": "text/x-python",
   "name": "python",
   "nbconvert_exporter": "python",
   "pygments_lexer": "ipython3",
   "version": "3.10.10"
  }
 },
 "nbformat": 4,
 "nbformat_minor": 2
}
