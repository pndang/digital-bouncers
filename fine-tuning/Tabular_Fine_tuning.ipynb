{
  "cells": [
    {
      "cell_type": "code",
      "execution_count": null,
      "metadata": {
        "id": "Grwp4t-UPWxw"
      },
      "outputs": [],
      "source": [
        "import pandas as pd\n",
        "\n",
        "# Load your dataset\n",
        "data = pd.read_csv(\"HomeC.csv\")\n",
        "\n",
        "# Preview the dataset\n",
        "print(data.head())\n"
      ]
    },
    {
      "cell_type": "code",
      "execution_count": null,
      "metadata": {
        "id": "WSoqbi9SQPOh"
      },
      "outputs": [],
      "source": [
        "def row_to_document(row):\n",
        "    document = (\n",
        "        f\"At {row['time']}, the house used {row['use [kW]']} kW and generated {row['gen [kW]']} kW. \"\n",
        "        f\"Room-specific usage: dishwasher {row['Dishwasher [kW]']} kW, fridge {row['Fridge [kW]']} kW, \"\n",
        "        f\"microwave {row['Microwave [kW]']} kW. Weather conditions were {row['summary']} with a temperature of \"\n",
        "        f\"{row['temperature']}°C and humidity at {row['humidity']}%. Wind speed was {row['windSpeed']} km/h.\"\n",
        "    )\n",
        "    return document"
      ]
    },
    {
      "cell_type": "code",
      "execution_count": null,
      "metadata": {
        "collapsed": true,
        "id": "LIp8AXu5Phy0"
      },
      "outputs": [],
      "source": [
        "documents = data.apply(row_to_document, axis=1).tolist()\n",
        "documents"
      ]
    },
    {
      "cell_type": "code",
      "execution_count": null,
      "metadata": {
        "id": "OzbJiX6tQ0Ru"
      },
      "outputs": [],
      "source": [
        "# Prepare fine-tuning data with prompts and responses\n",
        "fine_tuning_data = []\n",
        "\n",
        "for doc in documents:\n",
        "    fine_tuning_data.append({\n",
        "        \"prompt\": f\"Analyze the following data and summarize: {doc}\",\n",
        "        \"response\": \"The house used X kW, generated Y kW, and weather conditions were Z.\"\n",
        "    })\n",
        "\n",
        "# Save as JSON\n",
        "import json\n",
        "with open(\"fine_tuning_data.json\", \"w\") as f:\n",
        "    json.dump(fine_tuning_data, f, indent=2)\n"
      ]
    },
    {
      "cell_type": "code",
      "execution_count": null,
      "metadata": {
        "id": "NJ_2llCMPbQV"
      },
      "outputs": [],
      "source": [
        "!pip install transformers datasets\n"
      ]
    },
    {
      "cell_type": "code",
      "execution_count": null,
      "metadata": {
        "id": "ZHsNlYpoPeh4"
      },
      "outputs": [],
      "source": [
        "from transformers import AutoModelForCausalLM, AutoTokenizer, Trainer, TrainingArguments\n",
        "from datasets import load_dataset\n",
        "\n",
        "# Load the model and tokenizer\n",
        "model_name = \"gpt2\"  # Replace with your preferred model\n",
        "model = AutoModelForCausalLM.from_pretrained(model_name)\n",
        "tokenizer = AutoTokenizer.from_pretrained(model_name)\n",
        "\n",
        "# Load your fine-tuning data\n",
        "dataset = load_dataset(\"json\", data_files=\"fine_tuning_data.json\")\n",
        "\n",
        "# Tokenize the dataset\n",
        "def tokenize_data(example):\n",
        "    return tokenizer(\n",
        "        example[\"prompt\"] + example[\"response\"], truncation=True, padding=\"max_length\"\n",
        "    )\n",
        "\n",
        "tokenized_dataset = dataset.map(tokenize_data, batched=True)\n",
        "\n",
        "# Fine-tuning configuration\n",
        "training_args = TrainingArguments(\n",
        "    output_dir=\"./results\",\n",
        "    evaluation_strategy=\"steps\",\n",
        "    learning_rate=5e-5,\n",
        "    per_device_train_batch_size=4,\n",
        "    num_train_epochs=3,\n",
        "    save_steps=500,\n",
        ")\n",
        "\n",
        "# Fine-tune the model\n",
        "trainer = Trainer(\n",
        "    model=model,\n",
        "    args=training_args,\n",
        "    train_dataset=tokenized_dataset[\"train\"],\n",
        ")\n",
        "\n",
        "trainer.train()\n"
      ]
    },
    {
      "cell_type": "code",
      "execution_count": null,
      "metadata": {
        "id": "J8YXWuQVJxi8"
      },
      "outputs": [],
      "source": []
    }
  ],
  "metadata": {
    "colab": {
      "provenance": []
    },
    "kernelspec": {
      "display_name": "Python 3",
      "name": "python3"
    },
    "language_info": {
      "name": "python"
    }
  },
  "nbformat": 4,
  "nbformat_minor": 0
}
