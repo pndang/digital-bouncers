{
 "cells": [
  {
   "cell_type": "markdown",
   "metadata": {},
   "source": [
    "#### Implementing LangGraph's persistence layer for fault tolerance and facilitate conversations (remember previous interactions)"
   ]
  },
  {
   "cell_type": "code",
   "execution_count": null,
   "metadata": {},
   "outputs": [],
   "source": [
    "from langchain_openai import ChatOpenAI\n",
    "\n",
    "from dotenv import load_dotenv\n",
    "import os \n",
    "\n",
    "load_dotenv()\n",
    "\n",
    "# GPT_MODEL = 'gpt-4o'\n",
    "model = ChatOpenAI(model=\"gpt-4o\")"
   ]
  },
  {
   "cell_type": "code",
   "execution_count": null,
   "metadata": {},
   "outputs": [],
   "source": [
    "# API Configuration\n",
    "os.environ[\"OPENAI_API_KEY\"] = os.getenv(\"OPENAI_API_KEY\")\n",
    "# openai.api_key = os.getenv(\"OPENAI_API_KEY\")"
   ]
  },
  {
   "cell_type": "code",
   "execution_count": 3,
   "metadata": {},
   "outputs": [],
   "source": [
    "from langchain_core.messages import AIMessage, HumanMessage, SystemMessage\n",
    "from langchain_core.prompts import ChatPromptTemplate, MessagesPlaceholder\n",
    "from langgraph.checkpoint.postgres import PostgresSaver\n",
    "from langgraph.graph import START, MessagesState, StateGraph\n",
    "from psycopg import Connection"
   ]
  },
  {
   "cell_type": "code",
   "execution_count": 44,
   "metadata": {},
   "outputs": [],
   "source": [
    "# Database connection details\n",
    "DB_URI = os.getenv(\"DB_URI\")\n",
    "\n",
    "connection_kwargs = {\n",
    "    \"user\": os.getenv(\"DB_USER\"),\n",
    "    \"password\": os.getenv(\"DB_PASSWORD\"),\n",
    "    \"host\": os.getenv(\"DB_HOST\"),\n",
    "    \"port\": \"5432\",\n",
    "    \"autocommit\": True,\n",
    "    \"prepare_threshold\": 0,\n",
    "}"
   ]
  },
  {
   "cell_type": "code",
   "execution_count": 45,
   "metadata": {},
   "outputs": [],
   "source": [
    "# Define LangGraph workflow\n",
    "workflow = StateGraph(state_schema=MessagesState)"
   ]
  },
  {
   "cell_type": "code",
   "execution_count": 46,
   "metadata": {},
   "outputs": [],
   "source": [
    "# Define function to call the model\n",
    "\n",
    "def call_model(state: MessagesState):\n",
    "    system_prompt = (\n",
    "        \"You are a helpful assistant. \"\n",
    "        \"Answer all questions to the best of your ability.\"\n",
    "    )\n",
    "    messages = [SystemMessage(content=system_prompt)] + state[\"messages\"]\n",
    "    response = model.invoke(messages)\n",
    "    return {\"messages\": response}"
   ]
  },
  {
   "cell_type": "code",
   "execution_count": 47,
   "metadata": {},
   "outputs": [
    {
     "data": {
      "text/plain": [
       "<langgraph.graph.state.StateGraph at 0x165f1783040>"
      ]
     },
     "execution_count": 47,
     "metadata": {},
     "output_type": "execute_result"
    }
   ],
   "source": [
    "# Add the node and edge to the workflow\n",
    "\n",
    "workflow.add_node(\"model\", call_model)\n",
    "workflow.add_edge(START, \"model\")"
   ]
  },
  {
   "cell_type": "code",
   "execution_count": 55,
   "metadata": {},
   "outputs": [
    {
     "name": "stdout",
     "output_type": "stream",
     "text": [
      "Workflow Response: {'messages': [HumanMessage(content=\"what's the weather in Denver?\", additional_kwargs={}, response_metadata={}, id='ddaccb70-839b-4a6d-b686-f615e5e2f34e'), AIMessage(content=\"I'm unable to provide real-time weather updates. To get the current weather in Denver, I recommend checking a reliable weather website or app like the Weather Channel, the National Weather Service, or a weather app on your smartphone.\", additional_kwargs={'refusal': None}, response_metadata={'token_usage': {'completion_tokens': 45, 'prompt_tokens': 34, 'total_tokens': 79, 'completion_tokens_details': {'accepted_prediction_tokens': 0, 'audio_tokens': 0, 'reasoning_tokens': 0, 'rejected_prediction_tokens': 0}, 'prompt_tokens_details': {'audio_tokens': 0, 'cached_tokens': 0}}, 'model_name': 'gpt-4o-2024-08-06', 'system_fingerprint': 'fp_4691090a87', 'finish_reason': 'stop', 'logprobs': None}, id='run-a692fdca-00cd-4ed7-8075-6fff37822903-0', usage_metadata={'input_tokens': 34, 'output_tokens': 45, 'total_tokens': 79, 'input_token_details': {'audio': 0, 'cache_read': 0}, 'output_token_details': {'audio': 0, 'reasoning': 0}}), HumanMessage(content=\"what's the weather in Denver?\", additional_kwargs={}, response_metadata={}, id='3ac2ebde-6fef-441b-acf7-b257a20dc257'), AIMessage(content='I don\\'t have access to real-time data, so I\\'m unable to provide the current weather conditions in Denver. For the latest weather information, please check a trusted weather website, use a weather app, or search for \"Denver weather\" on a search engine.', additional_kwargs={'refusal': None}, response_metadata={'token_usage': {'completion_tokens': 52, 'prompt_tokens': 93, 'total_tokens': 145, 'completion_tokens_details': {'accepted_prediction_tokens': 0, 'audio_tokens': 0, 'reasoning_tokens': 0, 'rejected_prediction_tokens': 0}, 'prompt_tokens_details': {'audio_tokens': 0, 'cached_tokens': 0}}, 'model_name': 'gpt-4o-2024-08-06', 'system_fingerprint': 'fp_4691090a87', 'finish_reason': 'stop', 'logprobs': None}, id='run-99bc5d7f-d7af-44ea-97bf-65c1f17f79e8-0', usage_metadata={'input_tokens': 93, 'output_tokens': 52, 'total_tokens': 145, 'input_token_details': {'audio': 0, 'cache_read': 0}, 'output_token_details': {'audio': 0, 'reasoning': 0}})]}\n",
      "Checkpoint Tuple: CheckpointTuple(config={'configurable': {'thread_id': '1', 'checkpoint_ns': '', 'checkpoint_id': '1efdbd30-0d9e-67bc-8004-b7cff6ffd96d'}}, checkpoint={'v': 1, 'id': '1efdbd30-0d9e-67bc-8004-b7cff6ffd96d', 'ts': '2025-01-26T10:47:57.063775+00:00', 'pending_sends': [], 'versions_seen': {'model': {'start:model': '00000000000000000000000000000005.0.7492994878569476'}, '__input__': {}, '__start__': {'__start__': '00000000000000000000000000000004.0.24078976381853234'}}, 'channel_versions': {'model': '00000000000000000000000000000006.0.9491617378314615', 'messages': '00000000000000000000000000000006.0.08219908600831227', '__start__': '00000000000000000000000000000005.0.11068437511918705', 'start:model': '00000000000000000000000000000006.0.6516098280634158'}, 'channel_values': {'model': 'model', 'messages': [HumanMessage(content=\"what's the weather in Denver?\", additional_kwargs={}, response_metadata={}, id='ddaccb70-839b-4a6d-b686-f615e5e2f34e'), AIMessage(content=\"I'm unable to provide real-time weather updates. To get the current weather in Denver, I recommend checking a reliable weather website or app like the Weather Channel, the National Weather Service, or a weather app on your smartphone.\", additional_kwargs={'refusal': None}, response_metadata={'token_usage': {'completion_tokens': 45, 'prompt_tokens': 34, 'total_tokens': 79, 'completion_tokens_details': {'accepted_prediction_tokens': 0, 'audio_tokens': 0, 'reasoning_tokens': 0, 'rejected_prediction_tokens': 0}, 'prompt_tokens_details': {'audio_tokens': 0, 'cached_tokens': 0}}, 'model_name': 'gpt-4o-2024-08-06', 'system_fingerprint': 'fp_4691090a87', 'finish_reason': 'stop', 'logprobs': None}, id='run-a692fdca-00cd-4ed7-8075-6fff37822903-0', usage_metadata={'input_tokens': 34, 'output_tokens': 45, 'total_tokens': 79, 'input_token_details': {'audio': 0, 'cache_read': 0}, 'output_token_details': {'audio': 0, 'reasoning': 0}}), HumanMessage(content=\"what's the weather in Denver?\", additional_kwargs={}, response_metadata={}, id='3ac2ebde-6fef-441b-acf7-b257a20dc257'), AIMessage(content='I don\\'t have access to real-time data, so I\\'m unable to provide the current weather conditions in Denver. For the latest weather information, please check a trusted weather website, use a weather app, or search for \"Denver weather\" on a search engine.', additional_kwargs={'refusal': None}, response_metadata={'token_usage': {'completion_tokens': 52, 'prompt_tokens': 93, 'total_tokens': 145, 'completion_tokens_details': {'accepted_prediction_tokens': 0, 'audio_tokens': 0, 'reasoning_tokens': 0, 'rejected_prediction_tokens': 0}, 'prompt_tokens_details': {'audio_tokens': 0, 'cached_tokens': 0}}, 'model_name': 'gpt-4o-2024-08-06', 'system_fingerprint': 'fp_4691090a87', 'finish_reason': 'stop', 'logprobs': None}, id='run-99bc5d7f-d7af-44ea-97bf-65c1f17f79e8-0', usage_metadata={'input_tokens': 93, 'output_tokens': 52, 'total_tokens': 145, 'input_token_details': {'audio': 0, 'cache_read': 0}, 'output_token_details': {'audio': 0, 'reasoning': 0}})]}}, metadata={'step': 4, 'source': 'loop', 'writes': {'model': {'messages': AIMessage(content='I don\\'t have access to real-time data, so I\\'m unable to provide the current weather conditions in Denver. For the latest weather information, please check a trusted weather website, use a weather app, or search for \"Denver weather\" on a search engine.', additional_kwargs={'refusal': None}, response_metadata={'logprobs': None, 'model_name': 'gpt-4o-2024-08-06', 'token_usage': {'total_tokens': 145, 'prompt_tokens': 93, 'completion_tokens': 52, 'prompt_tokens_details': {'audio_tokens': 0, 'cached_tokens': 0}, 'completion_tokens_details': {'audio_tokens': 0, 'reasoning_tokens': 0, 'accepted_prediction_tokens': 0, 'rejected_prediction_tokens': 0}}, 'finish_reason': 'stop', 'system_fingerprint': 'fp_4691090a87'}, id='run-99bc5d7f-d7af-44ea-97bf-65c1f17f79e8-0', usage_metadata={'input_tokens': 93, 'output_tokens': 52, 'total_tokens': 145, 'input_token_details': {'audio': 0, 'cache_read': 0}, 'output_token_details': {'audio': 0, 'reasoning': 0}})}}, 'parents': {}, 'thread_id': '1'}, parent_config={'configurable': {'thread_id': '1', 'checkpoint_ns': '', 'checkpoint_id': '1efdbd30-04ed-64ad-8003-107f2badb4ef'}}, pending_writes=[])\n"
     ]
    }
   ],
   "source": [
    "with Connection.connect(DB_URI, **connection_kwargs) as conn:\n",
    "    checkpointer = PostgresSaver(conn)\n",
    "\n",
    "    # first time using database/table only\n",
    "    # checkpointer.setup()\n",
    "\n",
    "    # compile the workflow with the Postgres checkpointer\n",
    "    app = workflow.compile(checkpointer=checkpointer)\n",
    "\n",
    "    # Example configuration and input\n",
    "    config = {\"configurable\": {\"thread_id\": \"1\"}}\n",
    "    input_data = {\"messages\": [(\"human\", \"what's the weather in Denver?\")]}\n",
    "\n",
    "    # run the workflow\n",
    "    response = app.invoke(input_data, config)\n",
    "\n",
    "    # retrieve the checkpoint tuple\n",
    "    checkpoint_tuple = checkpointer.get_tuple(config)\n",
    "\n",
    "    print(\"Workflow Response:\", response)\n",
    "    print(\"Checkpoint Tuple:\", checkpoint_tuple)"
   ]
  },
  {
   "cell_type": "code",
   "execution_count": 56,
   "metadata": {},
   "outputs": [
    {
     "data": {
      "text/plain": [
       "CheckpointTuple(config={'configurable': {'thread_id': '1', 'checkpoint_ns': '', 'checkpoint_id': '1efdbd30-0d9e-67bc-8004-b7cff6ffd96d'}}, checkpoint={'v': 1, 'id': '1efdbd30-0d9e-67bc-8004-b7cff6ffd96d', 'ts': '2025-01-26T10:47:57.063775+00:00', 'pending_sends': [], 'versions_seen': {'model': {'start:model': '00000000000000000000000000000005.0.7492994878569476'}, '__input__': {}, '__start__': {'__start__': '00000000000000000000000000000004.0.24078976381853234'}}, 'channel_versions': {'model': '00000000000000000000000000000006.0.9491617378314615', 'messages': '00000000000000000000000000000006.0.08219908600831227', '__start__': '00000000000000000000000000000005.0.11068437511918705', 'start:model': '00000000000000000000000000000006.0.6516098280634158'}, 'channel_values': {'model': 'model', 'messages': [HumanMessage(content=\"what's the weather in Denver?\", additional_kwargs={}, response_metadata={}, id='ddaccb70-839b-4a6d-b686-f615e5e2f34e'), AIMessage(content=\"I'm unable to provide real-time weather updates. To get the current weather in Denver, I recommend checking a reliable weather website or app like the Weather Channel, the National Weather Service, or a weather app on your smartphone.\", additional_kwargs={'refusal': None}, response_metadata={'token_usage': {'completion_tokens': 45, 'prompt_tokens': 34, 'total_tokens': 79, 'completion_tokens_details': {'accepted_prediction_tokens': 0, 'audio_tokens': 0, 'reasoning_tokens': 0, 'rejected_prediction_tokens': 0}, 'prompt_tokens_details': {'audio_tokens': 0, 'cached_tokens': 0}}, 'model_name': 'gpt-4o-2024-08-06', 'system_fingerprint': 'fp_4691090a87', 'finish_reason': 'stop', 'logprobs': None}, id='run-a692fdca-00cd-4ed7-8075-6fff37822903-0', usage_metadata={'input_tokens': 34, 'output_tokens': 45, 'total_tokens': 79, 'input_token_details': {'audio': 0, 'cache_read': 0}, 'output_token_details': {'audio': 0, 'reasoning': 0}}), HumanMessage(content=\"what's the weather in Denver?\", additional_kwargs={}, response_metadata={}, id='3ac2ebde-6fef-441b-acf7-b257a20dc257'), AIMessage(content='I don\\'t have access to real-time data, so I\\'m unable to provide the current weather conditions in Denver. For the latest weather information, please check a trusted weather website, use a weather app, or search for \"Denver weather\" on a search engine.', additional_kwargs={'refusal': None}, response_metadata={'token_usage': {'completion_tokens': 52, 'prompt_tokens': 93, 'total_tokens': 145, 'completion_tokens_details': {'accepted_prediction_tokens': 0, 'audio_tokens': 0, 'reasoning_tokens': 0, 'rejected_prediction_tokens': 0}, 'prompt_tokens_details': {'audio_tokens': 0, 'cached_tokens': 0}}, 'model_name': 'gpt-4o-2024-08-06', 'system_fingerprint': 'fp_4691090a87', 'finish_reason': 'stop', 'logprobs': None}, id='run-99bc5d7f-d7af-44ea-97bf-65c1f17f79e8-0', usage_metadata={'input_tokens': 93, 'output_tokens': 52, 'total_tokens': 145, 'input_token_details': {'audio': 0, 'cache_read': 0}, 'output_token_details': {'audio': 0, 'reasoning': 0}})]}}, metadata={'step': 4, 'source': 'loop', 'writes': {'model': {'messages': AIMessage(content='I don\\'t have access to real-time data, so I\\'m unable to provide the current weather conditions in Denver. For the latest weather information, please check a trusted weather website, use a weather app, or search for \"Denver weather\" on a search engine.', additional_kwargs={'refusal': None}, response_metadata={'logprobs': None, 'model_name': 'gpt-4o-2024-08-06', 'token_usage': {'total_tokens': 145, 'prompt_tokens': 93, 'completion_tokens': 52, 'prompt_tokens_details': {'audio_tokens': 0, 'cached_tokens': 0}, 'completion_tokens_details': {'audio_tokens': 0, 'reasoning_tokens': 0, 'accepted_prediction_tokens': 0, 'rejected_prediction_tokens': 0}}, 'finish_reason': 'stop', 'system_fingerprint': 'fp_4691090a87'}, id='run-99bc5d7f-d7af-44ea-97bf-65c1f17f79e8-0', usage_metadata={'input_tokens': 93, 'output_tokens': 52, 'total_tokens': 145, 'input_token_details': {'audio': 0, 'cache_read': 0}, 'output_token_details': {'audio': 0, 'reasoning': 0}})}}, 'parents': {}, 'thread_id': '1'}, parent_config={'configurable': {'thread_id': '1', 'checkpoint_ns': '', 'checkpoint_id': '1efdbd30-04ed-64ad-8003-107f2badb4ef'}}, pending_writes=[])"
      ]
     },
     "execution_count": 56,
     "metadata": {},
     "output_type": "execute_result"
    }
   ],
   "source": [
    "checkpoint_tuple"
   ]
  },
  {
   "cell_type": "code",
   "execution_count": 66,
   "metadata": {},
   "outputs": [
    {
     "name": "stdout",
     "output_type": "stream",
     "text": [
      "Workflow Response: {'messages': [HumanMessage(content=\"what's the weather in Denver?\", additional_kwargs={}, response_metadata={}, id='ddaccb70-839b-4a6d-b686-f615e5e2f34e'), AIMessage(content=\"I'm unable to provide real-time weather updates. To get the current weather in Denver, I recommend checking a reliable weather website or app like the Weather Channel, the National Weather Service, or a weather app on your smartphone.\", additional_kwargs={'refusal': None}, response_metadata={'token_usage': {'completion_tokens': 45, 'prompt_tokens': 34, 'total_tokens': 79, 'completion_tokens_details': {'accepted_prediction_tokens': 0, 'audio_tokens': 0, 'reasoning_tokens': 0, 'rejected_prediction_tokens': 0}, 'prompt_tokens_details': {'audio_tokens': 0, 'cached_tokens': 0}}, 'model_name': 'gpt-4o-2024-08-06', 'system_fingerprint': 'fp_4691090a87', 'finish_reason': 'stop', 'logprobs': None}, id='run-a692fdca-00cd-4ed7-8075-6fff37822903-0', usage_metadata={'input_tokens': 34, 'output_tokens': 45, 'total_tokens': 79, 'input_token_details': {'audio': 0, 'cache_read': 0}, 'output_token_details': {'audio': 0, 'reasoning': 0}}), HumanMessage(content=\"what's the weather in Denver?\", additional_kwargs={}, response_metadata={}, id='3ac2ebde-6fef-441b-acf7-b257a20dc257'), AIMessage(content='I don\\'t have access to real-time data, so I\\'m unable to provide the current weather conditions in Denver. For the latest weather information, please check a trusted weather website, use a weather app, or search for \"Denver weather\" on a search engine.', additional_kwargs={'refusal': None}, response_metadata={'token_usage': {'completion_tokens': 52, 'prompt_tokens': 93, 'total_tokens': 145, 'completion_tokens_details': {'accepted_prediction_tokens': 0, 'audio_tokens': 0, 'reasoning_tokens': 0, 'rejected_prediction_tokens': 0}, 'prompt_tokens_details': {'audio_tokens': 0, 'cached_tokens': 0}}, 'model_name': 'gpt-4o-2024-08-06', 'system_fingerprint': 'fp_4691090a87', 'finish_reason': 'stop', 'logprobs': None}, id='run-99bc5d7f-d7af-44ea-97bf-65c1f17f79e8-0', usage_metadata={'input_tokens': 93, 'output_tokens': 52, 'total_tokens': 145, 'input_token_details': {'audio': 0, 'cache_read': 0}, 'output_token_details': {'audio': 0, 'reasoning': 0}}), HumanMessage(content='What city did I ask you for weather information?', additional_kwargs={}, response_metadata={}, id='50b9f302-804e-487a-b94f-a2b5af0c74f0'), AIMessage(content='You asked for the weather information in Denver.', additional_kwargs={'refusal': None}, response_metadata={'token_usage': {'completion_tokens': 10, 'prompt_tokens': 162, 'total_tokens': 172, 'completion_tokens_details': {'accepted_prediction_tokens': 0, 'audio_tokens': 0, 'reasoning_tokens': 0, 'rejected_prediction_tokens': 0}, 'prompt_tokens_details': {'audio_tokens': 0, 'cached_tokens': 0}}, 'model_name': 'gpt-4o-2024-08-06', 'system_fingerprint': 'fp_50cad350e4', 'finish_reason': 'stop', 'logprobs': None}, id='run-2d156a10-13ce-4820-8c82-670d753c4ee8-0', usage_metadata={'input_tokens': 162, 'output_tokens': 10, 'total_tokens': 172, 'input_token_details': {'audio': 0, 'cache_read': 0}, 'output_token_details': {'audio': 0, 'reasoning': 0}}), HumanMessage(content='What city did I ask you for weather information?', additional_kwargs={}, response_metadata={}, id='f3485cc0-17eb-4249-996f-7cf77462e0e8'), AIMessage(content='You asked for weather information in Denver.', additional_kwargs={'refusal': None}, response_metadata={'token_usage': {'completion_tokens': 9, 'prompt_tokens': 189, 'total_tokens': 198, 'completion_tokens_details': {'accepted_prediction_tokens': 0, 'audio_tokens': 0, 'reasoning_tokens': 0, 'rejected_prediction_tokens': 0}, 'prompt_tokens_details': {'audio_tokens': 0, 'cached_tokens': 0}}, 'model_name': 'gpt-4o-2024-08-06', 'system_fingerprint': 'fp_50cad350e4', 'finish_reason': 'stop', 'logprobs': None}, id='run-91c9f3fc-7d1a-450f-8b96-80f1b923d20a-0', usage_metadata={'input_tokens': 189, 'output_tokens': 9, 'total_tokens': 198, 'input_token_details': {'audio': 0, 'cache_read': 0}, 'output_token_details': {'audio': 0, 'reasoning': 0}}), HumanMessage(content='What city did I ask you for weather information?', additional_kwargs={}, response_metadata={}, id='8ab34663-5253-4095-b8a8-273cc4f37606'), AIMessage(content='You asked for weather information in Denver.', additional_kwargs={'refusal': None}, response_metadata={'token_usage': {'completion_tokens': 9, 'prompt_tokens': 215, 'total_tokens': 224, 'completion_tokens_details': {'accepted_prediction_tokens': 0, 'audio_tokens': 0, 'reasoning_tokens': 0, 'rejected_prediction_tokens': 0}, 'prompt_tokens_details': {'audio_tokens': 0, 'cached_tokens': 0}}, 'model_name': 'gpt-4o-2024-08-06', 'system_fingerprint': 'fp_50cad350e4', 'finish_reason': 'stop', 'logprobs': None}, id='run-db32af87-c994-45f3-a9cf-289424dfb17d-0', usage_metadata={'input_tokens': 215, 'output_tokens': 9, 'total_tokens': 224, 'input_token_details': {'audio': 0, 'cache_read': 0}, 'output_token_details': {'audio': 0, 'reasoning': 0}})]}\n",
      "Checkpoint Tuple: CheckpointTuple(config={'configurable': {'thread_id': '1', 'checkpoint_ns': '', 'checkpoint_id': '1efdbd50-3330-6433-800d-4713aabcbc48'}}, checkpoint={'v': 1, 'id': '1efdbd50-3330-6433-800d-4713aabcbc48', 'ts': '2025-01-26T11:02:19.996677+00:00', 'pending_sends': [], 'versions_seen': {'model': {'start:model': '00000000000000000000000000000014.0.011425673327257524'}, '__input__': {}, '__start__': {'__start__': '00000000000000000000000000000013.0.9174246014426737'}}, 'channel_versions': {'model': '00000000000000000000000000000015.0.7945278342790366', 'messages': '00000000000000000000000000000015.0.172774295615152', '__start__': '00000000000000000000000000000014.0.7110510117236072', 'start:model': '00000000000000000000000000000015.0.35195033312808544'}, 'channel_values': {'model': 'model', 'messages': [HumanMessage(content=\"what's the weather in Denver?\", additional_kwargs={}, response_metadata={}, id='ddaccb70-839b-4a6d-b686-f615e5e2f34e'), AIMessage(content=\"I'm unable to provide real-time weather updates. To get the current weather in Denver, I recommend checking a reliable weather website or app like the Weather Channel, the National Weather Service, or a weather app on your smartphone.\", additional_kwargs={'refusal': None}, response_metadata={'token_usage': {'completion_tokens': 45, 'prompt_tokens': 34, 'total_tokens': 79, 'completion_tokens_details': {'accepted_prediction_tokens': 0, 'audio_tokens': 0, 'reasoning_tokens': 0, 'rejected_prediction_tokens': 0}, 'prompt_tokens_details': {'audio_tokens': 0, 'cached_tokens': 0}}, 'model_name': 'gpt-4o-2024-08-06', 'system_fingerprint': 'fp_4691090a87', 'finish_reason': 'stop', 'logprobs': None}, id='run-a692fdca-00cd-4ed7-8075-6fff37822903-0', usage_metadata={'input_tokens': 34, 'output_tokens': 45, 'total_tokens': 79, 'input_token_details': {'audio': 0, 'cache_read': 0}, 'output_token_details': {'audio': 0, 'reasoning': 0}}), HumanMessage(content=\"what's the weather in Denver?\", additional_kwargs={}, response_metadata={}, id='3ac2ebde-6fef-441b-acf7-b257a20dc257'), AIMessage(content='I don\\'t have access to real-time data, so I\\'m unable to provide the current weather conditions in Denver. For the latest weather information, please check a trusted weather website, use a weather app, or search for \"Denver weather\" on a search engine.', additional_kwargs={'refusal': None}, response_metadata={'token_usage': {'completion_tokens': 52, 'prompt_tokens': 93, 'total_tokens': 145, 'completion_tokens_details': {'accepted_prediction_tokens': 0, 'audio_tokens': 0, 'reasoning_tokens': 0, 'rejected_prediction_tokens': 0}, 'prompt_tokens_details': {'audio_tokens': 0, 'cached_tokens': 0}}, 'model_name': 'gpt-4o-2024-08-06', 'system_fingerprint': 'fp_4691090a87', 'finish_reason': 'stop', 'logprobs': None}, id='run-99bc5d7f-d7af-44ea-97bf-65c1f17f79e8-0', usage_metadata={'input_tokens': 93, 'output_tokens': 52, 'total_tokens': 145, 'input_token_details': {'audio': 0, 'cache_read': 0}, 'output_token_details': {'audio': 0, 'reasoning': 0}}), HumanMessage(content='What city did I ask you for weather information?', additional_kwargs={}, response_metadata={}, id='50b9f302-804e-487a-b94f-a2b5af0c74f0'), AIMessage(content='You asked for the weather information in Denver.', additional_kwargs={'refusal': None}, response_metadata={'token_usage': {'completion_tokens': 10, 'prompt_tokens': 162, 'total_tokens': 172, 'completion_tokens_details': {'accepted_prediction_tokens': 0, 'audio_tokens': 0, 'reasoning_tokens': 0, 'rejected_prediction_tokens': 0}, 'prompt_tokens_details': {'audio_tokens': 0, 'cached_tokens': 0}}, 'model_name': 'gpt-4o-2024-08-06', 'system_fingerprint': 'fp_50cad350e4', 'finish_reason': 'stop', 'logprobs': None}, id='run-2d156a10-13ce-4820-8c82-670d753c4ee8-0', usage_metadata={'input_tokens': 162, 'output_tokens': 10, 'total_tokens': 172, 'input_token_details': {'audio': 0, 'cache_read': 0}, 'output_token_details': {'audio': 0, 'reasoning': 0}}), HumanMessage(content='What city did I ask you for weather information?', additional_kwargs={}, response_metadata={}, id='f3485cc0-17eb-4249-996f-7cf77462e0e8'), AIMessage(content='You asked for weather information in Denver.', additional_kwargs={'refusal': None}, response_metadata={'token_usage': {'completion_tokens': 9, 'prompt_tokens': 189, 'total_tokens': 198, 'completion_tokens_details': {'accepted_prediction_tokens': 0, 'audio_tokens': 0, 'reasoning_tokens': 0, 'rejected_prediction_tokens': 0}, 'prompt_tokens_details': {'audio_tokens': 0, 'cached_tokens': 0}}, 'model_name': 'gpt-4o-2024-08-06', 'system_fingerprint': 'fp_50cad350e4', 'finish_reason': 'stop', 'logprobs': None}, id='run-91c9f3fc-7d1a-450f-8b96-80f1b923d20a-0', usage_metadata={'input_tokens': 189, 'output_tokens': 9, 'total_tokens': 198, 'input_token_details': {'audio': 0, 'cache_read': 0}, 'output_token_details': {'audio': 0, 'reasoning': 0}}), HumanMessage(content='What city did I ask you for weather information?', additional_kwargs={}, response_metadata={}, id='8ab34663-5253-4095-b8a8-273cc4f37606'), AIMessage(content='You asked for weather information in Denver.', additional_kwargs={'refusal': None}, response_metadata={'token_usage': {'completion_tokens': 9, 'prompt_tokens': 215, 'total_tokens': 224, 'completion_tokens_details': {'accepted_prediction_tokens': 0, 'audio_tokens': 0, 'reasoning_tokens': 0, 'rejected_prediction_tokens': 0}, 'prompt_tokens_details': {'audio_tokens': 0, 'cached_tokens': 0}}, 'model_name': 'gpt-4o-2024-08-06', 'system_fingerprint': 'fp_50cad350e4', 'finish_reason': 'stop', 'logprobs': None}, id='run-db32af87-c994-45f3-a9cf-289424dfb17d-0', usage_metadata={'input_tokens': 215, 'output_tokens': 9, 'total_tokens': 224, 'input_token_details': {'audio': 0, 'cache_read': 0}, 'output_token_details': {'audio': 0, 'reasoning': 0}})]}}, metadata={'step': 13, 'source': 'loop', 'writes': {'model': {'messages': AIMessage(content='You asked for weather information in Denver.', additional_kwargs={'refusal': None}, response_metadata={'logprobs': None, 'model_name': 'gpt-4o-2024-08-06', 'token_usage': {'total_tokens': 224, 'prompt_tokens': 215, 'completion_tokens': 9, 'prompt_tokens_details': {'audio_tokens': 0, 'cached_tokens': 0}, 'completion_tokens_details': {'audio_tokens': 0, 'reasoning_tokens': 0, 'accepted_prediction_tokens': 0, 'rejected_prediction_tokens': 0}}, 'finish_reason': 'stop', 'system_fingerprint': 'fp_50cad350e4'}, id='run-db32af87-c994-45f3-a9cf-289424dfb17d-0', usage_metadata={'input_tokens': 215, 'output_tokens': 9, 'total_tokens': 224, 'input_token_details': {'audio': 0, 'cache_read': 0}, 'output_token_details': {'audio': 0, 'reasoning': 0}})}}, 'parents': {}, 'thread_id': '1'}, parent_config={'configurable': {'thread_id': '1', 'checkpoint_ns': '', 'checkpoint_id': '1efdbd50-2d30-64c7-800c-b012d492934f'}}, pending_writes=[])\n"
     ]
    }
   ],
   "source": [
    "# Test persistence\n",
    "\n",
    "with Connection.connect(DB_URI, **connection_kwargs) as conn:\n",
    "    checkpointer = PostgresSaver(conn)\n",
    "\n",
    "    # first time using database/table only\n",
    "    # checkpointer.setup()\n",
    "\n",
    "    # compile the workflow with the Postgres checkpointer\n",
    "    app = workflow.compile(checkpointer=checkpointer)\n",
    "\n",
    "    config = {\"configurable\": {\"thread_id\": \"1\"}}\n",
    "    input_data = {\"messages\": [(\"human\", \"What city did I ask you for weather information?\")]}\n",
    "\n",
    "    response = app.invoke(input_data, config)\n",
    "\n",
    "    checkpoint_tuple = checkpointer.get_tuple(config)\n",
    "\n",
    "    print(\"Workflow Response:\", response)\n",
    "    print(\"Checkpoint Tuple:\", checkpoint_tuple)"
   ]
  },
  {
   "cell_type": "code",
   "execution_count": 67,
   "metadata": {},
   "outputs": [
    {
     "data": {
      "text/plain": [
       "{'messages': [HumanMessage(content=\"what's the weather in Denver?\", additional_kwargs={}, response_metadata={}, id='ddaccb70-839b-4a6d-b686-f615e5e2f34e'),\n",
       "  AIMessage(content=\"I'm unable to provide real-time weather updates. To get the current weather in Denver, I recommend checking a reliable weather website or app like the Weather Channel, the National Weather Service, or a weather app on your smartphone.\", additional_kwargs={'refusal': None}, response_metadata={'token_usage': {'completion_tokens': 45, 'prompt_tokens': 34, 'total_tokens': 79, 'completion_tokens_details': {'accepted_prediction_tokens': 0, 'audio_tokens': 0, 'reasoning_tokens': 0, 'rejected_prediction_tokens': 0}, 'prompt_tokens_details': {'audio_tokens': 0, 'cached_tokens': 0}}, 'model_name': 'gpt-4o-2024-08-06', 'system_fingerprint': 'fp_4691090a87', 'finish_reason': 'stop', 'logprobs': None}, id='run-a692fdca-00cd-4ed7-8075-6fff37822903-0', usage_metadata={'input_tokens': 34, 'output_tokens': 45, 'total_tokens': 79, 'input_token_details': {'audio': 0, 'cache_read': 0}, 'output_token_details': {'audio': 0, 'reasoning': 0}}),\n",
       "  HumanMessage(content=\"what's the weather in Denver?\", additional_kwargs={}, response_metadata={}, id='3ac2ebde-6fef-441b-acf7-b257a20dc257'),\n",
       "  AIMessage(content='I don\\'t have access to real-time data, so I\\'m unable to provide the current weather conditions in Denver. For the latest weather information, please check a trusted weather website, use a weather app, or search for \"Denver weather\" on a search engine.', additional_kwargs={'refusal': None}, response_metadata={'token_usage': {'completion_tokens': 52, 'prompt_tokens': 93, 'total_tokens': 145, 'completion_tokens_details': {'accepted_prediction_tokens': 0, 'audio_tokens': 0, 'reasoning_tokens': 0, 'rejected_prediction_tokens': 0}, 'prompt_tokens_details': {'audio_tokens': 0, 'cached_tokens': 0}}, 'model_name': 'gpt-4o-2024-08-06', 'system_fingerprint': 'fp_4691090a87', 'finish_reason': 'stop', 'logprobs': None}, id='run-99bc5d7f-d7af-44ea-97bf-65c1f17f79e8-0', usage_metadata={'input_tokens': 93, 'output_tokens': 52, 'total_tokens': 145, 'input_token_details': {'audio': 0, 'cache_read': 0}, 'output_token_details': {'audio': 0, 'reasoning': 0}}),\n",
       "  HumanMessage(content='What city did I ask you for weather information?', additional_kwargs={}, response_metadata={}, id='50b9f302-804e-487a-b94f-a2b5af0c74f0'),\n",
       "  AIMessage(content='You asked for the weather information in Denver.', additional_kwargs={'refusal': None}, response_metadata={'token_usage': {'completion_tokens': 10, 'prompt_tokens': 162, 'total_tokens': 172, 'completion_tokens_details': {'accepted_prediction_tokens': 0, 'audio_tokens': 0, 'reasoning_tokens': 0, 'rejected_prediction_tokens': 0}, 'prompt_tokens_details': {'audio_tokens': 0, 'cached_tokens': 0}}, 'model_name': 'gpt-4o-2024-08-06', 'system_fingerprint': 'fp_50cad350e4', 'finish_reason': 'stop', 'logprobs': None}, id='run-2d156a10-13ce-4820-8c82-670d753c4ee8-0', usage_metadata={'input_tokens': 162, 'output_tokens': 10, 'total_tokens': 172, 'input_token_details': {'audio': 0, 'cache_read': 0}, 'output_token_details': {'audio': 0, 'reasoning': 0}}),\n",
       "  HumanMessage(content='What city did I ask you for weather information?', additional_kwargs={}, response_metadata={}, id='f3485cc0-17eb-4249-996f-7cf77462e0e8'),\n",
       "  AIMessage(content='You asked for weather information in Denver.', additional_kwargs={'refusal': None}, response_metadata={'token_usage': {'completion_tokens': 9, 'prompt_tokens': 189, 'total_tokens': 198, 'completion_tokens_details': {'accepted_prediction_tokens': 0, 'audio_tokens': 0, 'reasoning_tokens': 0, 'rejected_prediction_tokens': 0}, 'prompt_tokens_details': {'audio_tokens': 0, 'cached_tokens': 0}}, 'model_name': 'gpt-4o-2024-08-06', 'system_fingerprint': 'fp_50cad350e4', 'finish_reason': 'stop', 'logprobs': None}, id='run-91c9f3fc-7d1a-450f-8b96-80f1b923d20a-0', usage_metadata={'input_tokens': 189, 'output_tokens': 9, 'total_tokens': 198, 'input_token_details': {'audio': 0, 'cache_read': 0}, 'output_token_details': {'audio': 0, 'reasoning': 0}}),\n",
       "  HumanMessage(content='What city did I ask you for weather information?', additional_kwargs={}, response_metadata={}, id='8ab34663-5253-4095-b8a8-273cc4f37606'),\n",
       "  AIMessage(content='You asked for weather information in Denver.', additional_kwargs={'refusal': None}, response_metadata={'token_usage': {'completion_tokens': 9, 'prompt_tokens': 215, 'total_tokens': 224, 'completion_tokens_details': {'accepted_prediction_tokens': 0, 'audio_tokens': 0, 'reasoning_tokens': 0, 'rejected_prediction_tokens': 0}, 'prompt_tokens_details': {'audio_tokens': 0, 'cached_tokens': 0}}, 'model_name': 'gpt-4o-2024-08-06', 'system_fingerprint': 'fp_50cad350e4', 'finish_reason': 'stop', 'logprobs': None}, id='run-db32af87-c994-45f3-a9cf-289424dfb17d-0', usage_metadata={'input_tokens': 215, 'output_tokens': 9, 'total_tokens': 224, 'input_token_details': {'audio': 0, 'cache_read': 0}, 'output_token_details': {'audio': 0, 'reasoning': 0}})]}"
      ]
     },
     "execution_count": 67,
     "metadata": {},
     "output_type": "execute_result"
    }
   ],
   "source": [
    "response"
   ]
  },
  {
   "cell_type": "code",
   "execution_count": null,
   "metadata": {},
   "outputs": [],
   "source": []
  },
  {
   "cell_type": "code",
   "execution_count": null,
   "metadata": {},
   "outputs": [],
   "source": []
  },
  {
   "cell_type": "code",
   "execution_count": 54,
   "metadata": {},
   "outputs": [],
   "source": [
    "# import psycopg\n",
    "\n",
    "# try:\n",
    "#     # Establish the connection\n",
    "#     with psycopg.connect(DB_URI, **connection_kwargs) as conn:\n",
    "#         print(\"Connection successful!\")\n",
    "\n",
    "#         # Execute a test query\n",
    "#         with conn.cursor() as cur:\n",
    "#             cur.execute(\"\"\"\n",
    "#                 SELECT table_name\n",
    "#                 FROM information_schema.tables\n",
    "#                 WHERE table_schema = 'public'\n",
    "#                 ORDER BY table_name;\n",
    "#             \"\"\")\n",
    "#             tables = cur.fetchall()\n",
    "            \n",
    "#             # Print the list of tables\n",
    "#             print(\"Tables in the database:\")\n",
    "#             for table in tables:\n",
    "#                 print(f\"- {table[0]}\")\n",
    "\n",
    "# except Exception as e:\n",
    "#     print(\"Error connecting to PostgreSQL:\", e)"
   ]
  },
  {
   "cell_type": "code",
   "execution_count": null,
   "metadata": {},
   "outputs": [],
   "source": []
  }
 ],
 "metadata": {
  "kernelspec": {
   "display_name": "db_venv",
   "language": "python",
   "name": "python3"
  },
  "language_info": {
   "codemirror_mode": {
    "name": "ipython",
    "version": 3
   },
   "file_extension": ".py",
   "mimetype": "text/x-python",
   "name": "python",
   "nbconvert_exporter": "python",
   "pygments_lexer": "ipython3",
   "version": "3.10.0"
  }
 },
 "nbformat": 4,
 "nbformat_minor": 2
}
