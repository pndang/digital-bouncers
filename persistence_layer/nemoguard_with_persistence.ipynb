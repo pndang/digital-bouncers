{
 "cells": [
  {
   "cell_type": "code",
   "execution_count": 1,
   "metadata": {},
   "outputs": [],
   "source": [
    "from nemoguardrails import LLMRails, RailsConfig\n",
    "\n",
    "from dotenv import load_dotenv\n",
    "import os \n",
    "\n",
    "import openai\n",
    "from langchain_openai import ChatOpenAI\n",
    "\n",
    "load_dotenv()\n",
    "\n",
    "model = ChatOpenAI(model=\"gpt-4o\")"
   ]
  },
  {
   "cell_type": "code",
   "execution_count": 2,
   "metadata": {},
   "outputs": [],
   "source": [
    "# API Configuration\n",
    "os.environ[\"OPENAI_API_KEY\"] = os.getenv(\"OPENAI_API_KEY\")\n",
    "openai.api_key = os.getenv(\"OPENAI_API_KEY\")"
   ]
  },
  {
   "cell_type": "code",
   "execution_count": 3,
   "metadata": {},
   "outputs": [
    {
     "name": "stderr",
     "output_type": "stream",
     "text": [
      "c:\\Users\\dangn\\Phu\\HDSI_Capstone\\final-project\\db_venv\\lib\\site-packages\\tqdm\\auto.py:21: TqdmWarning: IProgress not found. Please update jupyter and ipywidgets. See https://ipywidgets.readthedocs.io/en/stable/user_install.html\n",
      "  from .autonotebook import tqdm as notebook_tqdm\n",
      "Fetching 5 files: 100%|██████████| 5/5 [00:00<00:00, 4611.15it/s]\n"
     ]
    }
   ],
   "source": [
    "import nest_asyncio\n",
    "nest_asyncio.apply()\n",
    "\n",
    "# Load NeMo Guardrails configuration\n",
    "config = RailsConfig.from_path(\"C:/Users/dangn/Phu/HDSI_Capstone/final-project/config\")\n",
    "rails = LLMRails(config)"
   ]
  },
  {
   "cell_type": "code",
   "execution_count": 4,
   "metadata": {},
   "outputs": [],
   "source": [
    "from langchain_core.messages import AIMessage, HumanMessage, SystemMessage\n",
    "from langchain_core.prompts import ChatPromptTemplate, MessagesPlaceholder\n",
    "from langgraph.checkpoint.postgres import PostgresSaver\n",
    "from langgraph.graph import START, MessagesState, StateGraph\n",
    "from psycopg import Connection"
   ]
  },
  {
   "cell_type": "code",
   "execution_count": 5,
   "metadata": {},
   "outputs": [],
   "source": [
    "# Database connection details\n",
    "DB_URI = os.getenv(\"DB_URI\")\n",
    "\n",
    "connection_kwargs = {\n",
    "    \"user\": os.getenv(\"DB_USER\"),\n",
    "    \"password\": os.getenv(\"DB_PASSWORD\"),\n",
    "    \"host\": os.getenv(\"DB_HOST\"),\n",
    "    \"port\": \"5432\",\n",
    "    \"autocommit\": True,\n",
    "    \"prepare_threshold\": 0,\n",
    "}"
   ]
  },
  {
   "cell_type": "code",
   "execution_count": 6,
   "metadata": {},
   "outputs": [],
   "source": [
    "# wrapper function for LLM response with persistent state management\n",
    "\n",
    "def get_response(state: MessagesState):\n",
    "\n",
    "    system_prompt = (\n",
    "        \"You are a helpful smart home analyst conversing with the homeowner directly.\"\n",
    "        \"Be precise, concise, and keep the response within a comfortable length for the homeowner to read conveniently and understand their utility usage.\"\n",
    "        \"Give actionable insights to pinpoint inefficiencies and provide suggestions to lower utility cost.\"\n",
    "    )\n",
    "\n",
    "    # incorporate only the latest 5 messages + first message\n",
    "    # trimmed_messages = state['messages'][0] + state['messages'][-5:]\n",
    "\n",
    "    # construct prompt\n",
    "    prompt = [SystemMessage(content=system_prompt)] + state['messages']\n",
    "\n",
    "    res = model.invoke(prompt)\n",
    "\n",
    "    print(f\"\\n{res}\\n\")\n",
    "    \n",
    "    return {\"messages\": res}\n"
   ]
  },
  {
   "cell_type": "code",
   "execution_count": null,
   "metadata": {},
   "outputs": [
    {
     "data": {
      "text/plain": [
       "<langgraph.graph.state.StateGraph at 0x1e452fcb220>"
      ]
     },
     "execution_count": 16,
     "metadata": {},
     "output_type": "execute_result"
    }
   ],
   "source": [
    "# Define LangGraph workflow with persistence and guardrails\n",
    "workflow = StateGraph(state_schema=MessagesState)\n",
    "\n",
    "# Add the node and edge to the workflow\n",
    "workflow.add_node(\"model\", get_response)\n",
    "workflow.add_edge(START, \"model\")\n",
    "\n",
    "def test_func(state: MessagesState):\n",
    "    print(\"THIS IS A TESTTT!\")\n",
    "\n",
    "workflow.add_node(\"test\", test_func)\n",
    "workflow.add_edge(\"model\", \"test\")"
   ]
  },
  {
   "cell_type": "code",
   "execution_count": 17,
   "metadata": {},
   "outputs": [],
   "source": [
    "test_prompt = \"\"\"\n",
    "    This is a time-series dataset of utility usage for a smart home:\n",
    "\n",
    "    The dataset contains the following columns:\n",
    "    use, gen, Dishwasher, Furnace_1, Furnace_2, Home_office, Fridge, Wine_cellar, Garage_door, Kitchen_12, Kitchen_14, Kitchen_38, Barn, Well, Microwave, Living_room, kitchen, Furnace\n",
    "\n",
    "    Column description (everything in kilowatt):\n",
    "    \"use\" contains total energy consumption\n",
    "    \"gen\" contains total energy generated by means of solar or other power generation resources\n",
    "    The rest of the columns either contain energy consumed by a specific appliance or room in the house\n",
    "\n",
    "    Summary usage by month:\n",
    "                    use       gen  Dishwasher  Furnace_1  Furnace_2  Home_office    Fridge  Wine_cellar  Garage_door  Kitchen_12  Kitchen_14  Kitchen_38      Barn      Well  Microwave  Living_room   kitchen   Furnace\n",
    "    2015-12-31  0.836898  0.003448    0.000091   0.238546   0.253805     0.054039  0.060343     0.007168     0.013105    0.000596    0.000156    0.000014  0.034275  0.001016   0.004256     0.001633  0.000765  0.492352\n",
    "    2016-01-31  1.047812  0.059034    0.039739   0.221878   0.234376     0.091420  0.055713     0.018900     0.013647    0.002872    0.007600    0.000010  0.074052  0.017327   0.009432     0.044356  0.010482  0.456255\n",
    "    2016-02-29  0.995173  0.058891    0.031232   0.222302   0.234220     0.069926  0.053357     0.019491     0.013786    0.002907    0.006851    0.000011  0.069036  0.017568   0.007959     0.034542  0.009769  0.456522\n",
    "    2016-03-31  0.770586  0.083415    0.034448   0.118393   0.173024     0.080134  0.053053     0.029050     0.013790    0.000656    0.008312    0.000011  0.040879  0.016721   0.008835     0.035553  0.008979  0.291417\n",
    "    2016-04-30  0.690589  0.089860    0.030955   0.094915   0.122734     0.071471  0.057580     0.036019     0.014573    0.000613    0.006815    0.000010  0.061524  0.014753   0.011446     0.035707  0.007438  0.217649\n",
    "    2016-05-31  0.570911  0.082698    0.026486   0.048589   0.085656     0.062082  0.059366     0.036092     0.013750    0.000808    0.005549    0.000010  0.075403  0.009305   0.009396     0.024818  0.006366  0.134245\n",
    "    2016-06-30  0.537512  0.106605    0.026522   0.025971   0.067307     0.077959  0.069597     0.046525     0.014561    0.000836    0.005723    0.000009  0.071232  0.019061   0.008029     0.027586  0.006568  0.093277\n",
    "    2016-07-31  1.165928  0.091958    0.026554   0.060952   0.109885     0.093516  0.079352     0.064768     0.014563    0.002790    0.006819    0.000009  0.051821  0.017802   0.011128     0.023662  0.009618  0.170838\n",
    "    2016-08-31  1.400862  0.091221    0.031419   0.069776   0.127411     0.099653  0.084534     0.098990     0.013831    0.004962    0.007028    0.000009  0.036223  0.014269   0.013601     0.040737  0.011999  0.197187\n",
    "    2016-09-30  0.722752  0.082260    0.030318   0.030985   0.076128     0.082817  0.074198     0.063424     0.014452    0.005606    0.006822    0.000009  0.062955  0.013834   0.010799     0.033432  0.012437  0.107113\n",
    "    2016-10-31  0.682110  0.054308    0.030859   0.046078   0.103116     0.088901  0.061057     0.030076     0.014488    0.003710    0.007460    0.000009  0.061934  0.014195   0.014059     0.032818  0.011179  0.149193\n",
    "    2016-11-30  0.842199  0.051300    0.032169   0.112768   0.138107     0.082647  0.056133     0.028830     0.014302    0.004504    0.008514    0.000009  0.053323  0.018005   0.011663     0.051442  0.013027  0.250875\n",
    "    2016-12-31  0.934789  0.040754    0.033800   0.191171   0.213707     0.075729  0.051394     0.024994     0.014050    0.003543    0.007113    0.000009  0.034346  0.015905   0.009571     0.051298  0.010664  0.404878\n",
    "\n",
    "    Sample data:\n",
    "    use,gen,Dishwasher,Furnace_1,Furnace_2,Home_office,Fridge,Wine_cellar,Garage_door,Kitchen_12,Kitchen_14,Kitchen_38,Barn,Well,Microwave,Living_room,kitchen,Furnace\n",
    "    0.6316,0.003466667,3.33e-05,0.158883333,0.0639,0.0434,0.0825,0.009083333,0.012983333,0.000516667,5e-05,0.0,0.031766667,0.001033333,0.004083333,0.001616667,0.000566667,0.22278333299999997\n",
    "    1.070016667,0.0035,0.000233333,0.497633333,0.0629,0.043583333,0.170883333,0.008883333,0.0125,0.00035,0.000216667,1.67e-05,0.0317,0.001083333,0.004083333,0.001683333,0.000583367,0.560533333\n",
    "    1.01625,0.003466667,0.000216667,0.466683333,0.062766667,0.043533333,0.14955,0.0089,0.012566667,0.000416667,0.0002,1.67e-05,0.031733333,0.001016667,0.004083333,0.001683333,0.000633367,0.52945\n",
    "    0.820666667,0.003466667,0.000216667,0.44695,0.062916667,0.043583333,0.0105,0.007733333,0.012616667,0.000733333,0.000333333,1.67e-05,0.031766667,0.001016667,0.0041,0.0016,0.0010833659999999999,0.509866667\n",
    "    0.539166667,0.003516667,3.33e-05,0.100133333,0.116283333,0.043366667,0.007616667,0.007083333,0.013133333,0.000683333,5e-05,0.0,0.0318,0.001016667,0.004083333,0.001616667,0.0007333330000000001,0.216416666\n",
    "\n",
    "    Please answer the following questions:\n",
    "    1. Identify any sources with an increasing trend in electricity usage over time. \n",
    "    2. Highlight any significant outliers or anomalies.\n",
    "\"\"\""
   ]
  },
  {
   "cell_type": "code",
   "execution_count": 18,
   "metadata": {},
   "outputs": [],
   "source": [
    "config = RailsConfig.from_path(\"C:/Users/dangn/Phu/HDSI_Capstone/final-project/config\")\n",
    "rails = LLMRails(config)"
   ]
  },
  {
   "cell_type": "code",
   "execution_count": 19,
   "metadata": {},
   "outputs": [
    {
     "name": "stdout",
     "output_type": "stream",
     "text": [
      "\n",
      "content=\"Analyzing your smart home utility data, here are some insights:\\n\\n1. **Sources with Increasing Trend**:\\n   - **Home Office**: There's a clear increase in energy consumption, growing from 0.054 kW in December 2015 to 0.099 kW in August 2016, indicating more device usage or prolonged activity.\\n   - **Wine Cellar**: Usage rose steadily from 0.007 kW in December 2015 to 0.099 kW in August 2016, possibly due to higher cooling requirements or inefficiencies.\\n   - **Microwave**: Shows a gradual increase from 0.004 kW in December 2015 to 0.014 kW by October 2016, suggesting increased duration or frequency of use.\\n   - **Fridge**: Notable peak in consumption during August 2016 at 0.085 kW, which could be related to higher external temperatures.\\n\\n2. **Significant Outliers or Anomalies**:\\n   - **August 2016**: Total usage spikes to 1.400 kW, with significant contributions from Home Office, Wine Cellar, and Fridge, potentially due to increased appliance use or operational inefficiencies.\\n   - **July 2016**: High usage at 1.165 kW is another anomaly, possibly tied to seasonal factors affecting energy demand, such as cooling.\\n\\n**Recommendations**:\\n- **Home Office & Wine Cellar**: Consider assessing for overuse or inefficiencies and optimizing usage. Shift energy-intensive tasks to periods with higher solar generation.\\n- **Fridge**: Regular maintenance checks and optimal temperature handling can reduce energy consumption.\\n- **Microwave**: Evaluate usage frequency and duration to identify if certain uses can be minimized.\\n\\nImplementing these strategies can help in efficiently managing energy consumption and potentially lower utility costs.\" additional_kwargs={'refusal': None} response_metadata={'token_usage': {'completion_tokens': 382, 'prompt_tokens': 29937, 'total_tokens': 30319, 'completion_tokens_details': {'accepted_prediction_tokens': 0, 'audio_tokens': 0, 'reasoning_tokens': 0, 'rejected_prediction_tokens': 0}, 'prompt_tokens_details': {'audio_tokens': 0, 'cached_tokens': 27520}}, 'model_name': 'gpt-4o-2024-08-06', 'system_fingerprint': 'fp_eb9dce56a8', 'finish_reason': 'stop', 'logprobs': None} id='run-2c4e3836-68e2-4809-8909-dc93923aae9a-0' usage_metadata={'input_tokens': 29937, 'output_tokens': 382, 'total_tokens': 30319, 'input_token_details': {'audio': 0, 'cache_read': 27520}, 'output_token_details': {'audio': 0, 'reasoning': 0}}\n",
      "\n"
     ]
    },
    {
     "ename": "TypeError",
     "evalue": "test_func() takes 0 positional arguments but 1 was given",
     "output_type": "error",
     "traceback": [
      "\u001b[1;31m---------------------------------------------------------------------------\u001b[0m",
      "\u001b[1;31mTypeError\u001b[0m                                 Traceback (most recent call last)",
      "Cell \u001b[1;32mIn[19], line 36\u001b[0m\n\u001b[0;32m     33\u001b[0m input_data \u001b[38;5;241m=\u001b[39m {\u001b[38;5;124m\"\u001b[39m\u001b[38;5;124mmessages\u001b[39m\u001b[38;5;124m\"\u001b[39m: [(\u001b[38;5;124m\"\u001b[39m\u001b[38;5;124mhuman\u001b[39m\u001b[38;5;124m\"\u001b[39m, test_prompt)]}\n\u001b[0;32m     35\u001b[0m \u001b[38;5;66;03m# run the workflow\u001b[39;00m\n\u001b[1;32m---> 36\u001b[0m response \u001b[38;5;241m=\u001b[39m \u001b[43mapp\u001b[49m\u001b[38;5;241;43m.\u001b[39;49m\u001b[43minvoke\u001b[49m\u001b[43m(\u001b[49m\u001b[43minput_data\u001b[49m\u001b[43m,\u001b[49m\u001b[43m \u001b[49m\u001b[43mconfig\u001b[49m\u001b[43m)\u001b[49m\n\u001b[0;32m     37\u001b[0m \u001b[38;5;28mprint\u001b[39m(\u001b[38;5;124m\"\u001b[39m\u001b[38;5;124mWorkflow response:\u001b[39m\u001b[38;5;124m\"\u001b[39m, response)\n\u001b[0;32m     39\u001b[0m \u001b[38;5;66;03m# retrieve the checkpoint tuple\u001b[39;00m\n",
      "File \u001b[1;32mc:\\Users\\dangn\\Phu\\HDSI_Capstone\\final-project\\db_venv\\lib\\site-packages\\langgraph\\pregel\\__init__.py:1961\u001b[0m, in \u001b[0;36mPregel.invoke\u001b[1;34m(self, input, config, stream_mode, output_keys, interrupt_before, interrupt_after, debug, **kwargs)\u001b[0m\n\u001b[0;32m   1959\u001b[0m \u001b[38;5;28;01melse\u001b[39;00m:\n\u001b[0;32m   1960\u001b[0m     chunks \u001b[38;5;241m=\u001b[39m []\n\u001b[1;32m-> 1961\u001b[0m \u001b[38;5;28;01mfor\u001b[39;00m chunk \u001b[38;5;129;01min\u001b[39;00m \u001b[38;5;28mself\u001b[39m\u001b[38;5;241m.\u001b[39mstream(\n\u001b[0;32m   1962\u001b[0m     \u001b[38;5;28minput\u001b[39m,\n\u001b[0;32m   1963\u001b[0m     config,\n\u001b[0;32m   1964\u001b[0m     stream_mode\u001b[38;5;241m=\u001b[39mstream_mode,\n\u001b[0;32m   1965\u001b[0m     output_keys\u001b[38;5;241m=\u001b[39moutput_keys,\n\u001b[0;32m   1966\u001b[0m     interrupt_before\u001b[38;5;241m=\u001b[39minterrupt_before,\n\u001b[0;32m   1967\u001b[0m     interrupt_after\u001b[38;5;241m=\u001b[39minterrupt_after,\n\u001b[0;32m   1968\u001b[0m     debug\u001b[38;5;241m=\u001b[39mdebug,\n\u001b[0;32m   1969\u001b[0m     \u001b[38;5;241m*\u001b[39m\u001b[38;5;241m*\u001b[39mkwargs,\n\u001b[0;32m   1970\u001b[0m ):\n\u001b[0;32m   1971\u001b[0m     \u001b[38;5;28;01mif\u001b[39;00m stream_mode \u001b[38;5;241m==\u001b[39m \u001b[38;5;124m\"\u001b[39m\u001b[38;5;124mvalues\u001b[39m\u001b[38;5;124m\"\u001b[39m:\n\u001b[0;32m   1972\u001b[0m         latest \u001b[38;5;241m=\u001b[39m chunk\n",
      "File \u001b[1;32mc:\\Users\\dangn\\Phu\\HDSI_Capstone\\final-project\\db_venv\\lib\\site-packages\\langgraph\\pregel\\__init__.py:1670\u001b[0m, in \u001b[0;36mPregel.stream\u001b[1;34m(self, input, config, stream_mode, output_keys, interrupt_before, interrupt_after, debug, subgraphs)\u001b[0m\n\u001b[0;32m   1664\u001b[0m     \u001b[38;5;66;03m# Similarly to Bulk Synchronous Parallel / Pregel model\u001b[39;00m\n\u001b[0;32m   1665\u001b[0m     \u001b[38;5;66;03m# computation proceeds in steps, while there are channel updates.\u001b[39;00m\n\u001b[0;32m   1666\u001b[0m     \u001b[38;5;66;03m# Channel updates from step N are only visible in step N+1\u001b[39;00m\n\u001b[0;32m   1667\u001b[0m     \u001b[38;5;66;03m# channels are guaranteed to be immutable for the duration of the step,\u001b[39;00m\n\u001b[0;32m   1668\u001b[0m     \u001b[38;5;66;03m# with channel updates applied only at the transition between steps.\u001b[39;00m\n\u001b[0;32m   1669\u001b[0m     \u001b[38;5;28;01mwhile\u001b[39;00m loop\u001b[38;5;241m.\u001b[39mtick(input_keys\u001b[38;5;241m=\u001b[39m\u001b[38;5;28mself\u001b[39m\u001b[38;5;241m.\u001b[39minput_channels):\n\u001b[1;32m-> 1670\u001b[0m         \u001b[38;5;28;01mfor\u001b[39;00m _ \u001b[38;5;129;01min\u001b[39;00m runner\u001b[38;5;241m.\u001b[39mtick(\n\u001b[0;32m   1671\u001b[0m             loop\u001b[38;5;241m.\u001b[39mtasks\u001b[38;5;241m.\u001b[39mvalues(),\n\u001b[0;32m   1672\u001b[0m             timeout\u001b[38;5;241m=\u001b[39m\u001b[38;5;28mself\u001b[39m\u001b[38;5;241m.\u001b[39mstep_timeout,\n\u001b[0;32m   1673\u001b[0m             retry_policy\u001b[38;5;241m=\u001b[39m\u001b[38;5;28mself\u001b[39m\u001b[38;5;241m.\u001b[39mretry_policy,\n\u001b[0;32m   1674\u001b[0m             get_waiter\u001b[38;5;241m=\u001b[39mget_waiter,\n\u001b[0;32m   1675\u001b[0m         ):\n\u001b[0;32m   1676\u001b[0m             \u001b[38;5;66;03m# emit output\u001b[39;00m\n\u001b[0;32m   1677\u001b[0m             \u001b[38;5;28;01myield from\u001b[39;00m output()\n\u001b[0;32m   1678\u001b[0m \u001b[38;5;66;03m# emit output\u001b[39;00m\n",
      "File \u001b[1;32mc:\\Users\\dangn\\Phu\\HDSI_Capstone\\final-project\\db_venv\\lib\\site-packages\\langgraph\\pregel\\runner.py:230\u001b[0m, in \u001b[0;36mPregelRunner.tick\u001b[1;34m(self, tasks, reraise, timeout, retry_policy, get_waiter)\u001b[0m\n\u001b[0;32m    228\u001b[0m t \u001b[38;5;241m=\u001b[39m tasks[\u001b[38;5;241m0\u001b[39m]\n\u001b[0;32m    229\u001b[0m \u001b[38;5;28;01mtry\u001b[39;00m:\n\u001b[1;32m--> 230\u001b[0m     \u001b[43mrun_with_retry\u001b[49m\u001b[43m(\u001b[49m\n\u001b[0;32m    231\u001b[0m \u001b[43m        \u001b[49m\u001b[43mt\u001b[49m\u001b[43m,\u001b[49m\n\u001b[0;32m    232\u001b[0m \u001b[43m        \u001b[49m\u001b[43mretry_policy\u001b[49m\u001b[43m,\u001b[49m\n\u001b[0;32m    233\u001b[0m \u001b[43m        \u001b[49m\u001b[43mconfigurable\u001b[49m\u001b[38;5;241;43m=\u001b[39;49m\u001b[43m{\u001b[49m\n\u001b[0;32m    234\u001b[0m \u001b[43m            \u001b[49m\u001b[43mCONFIG_KEY_SEND\u001b[49m\u001b[43m:\u001b[49m\u001b[43m \u001b[49m\u001b[43mpartial\u001b[49m\u001b[43m(\u001b[49m\u001b[43mwriter\u001b[49m\u001b[43m,\u001b[49m\u001b[43m \u001b[49m\u001b[43mt\u001b[49m\u001b[43m)\u001b[49m\u001b[43m,\u001b[49m\n\u001b[0;32m    235\u001b[0m \u001b[43m            \u001b[49m\u001b[43mCONFIG_KEY_CALL\u001b[49m\u001b[43m:\u001b[49m\u001b[43m \u001b[49m\u001b[43mpartial\u001b[49m\u001b[43m(\u001b[49m\u001b[43mcall\u001b[49m\u001b[43m,\u001b[49m\u001b[43m \u001b[49m\u001b[43mt\u001b[49m\u001b[43m)\u001b[49m\u001b[43m,\u001b[49m\n\u001b[0;32m    236\u001b[0m \u001b[43m        \u001b[49m\u001b[43m}\u001b[49m\u001b[43m,\u001b[49m\n\u001b[0;32m    237\u001b[0m \u001b[43m    \u001b[49m\u001b[43m)\u001b[49m\n\u001b[0;32m    238\u001b[0m     \u001b[38;5;28mself\u001b[39m\u001b[38;5;241m.\u001b[39mcommit(t, \u001b[38;5;28;01mNone\u001b[39;00m)\n\u001b[0;32m    239\u001b[0m \u001b[38;5;28;01mexcept\u001b[39;00m \u001b[38;5;167;01mException\u001b[39;00m \u001b[38;5;28;01mas\u001b[39;00m exc:\n",
      "File \u001b[1;32mc:\\Users\\dangn\\Phu\\HDSI_Capstone\\final-project\\db_venv\\lib\\site-packages\\langgraph\\pregel\\retry.py:40\u001b[0m, in \u001b[0;36mrun_with_retry\u001b[1;34m(task, retry_policy, configurable)\u001b[0m\n\u001b[0;32m     38\u001b[0m     task\u001b[38;5;241m.\u001b[39mwrites\u001b[38;5;241m.\u001b[39mclear()\n\u001b[0;32m     39\u001b[0m     \u001b[38;5;66;03m# run the task\u001b[39;00m\n\u001b[1;32m---> 40\u001b[0m     \u001b[38;5;28;01mreturn\u001b[39;00m \u001b[43mtask\u001b[49m\u001b[38;5;241;43m.\u001b[39;49m\u001b[43mproc\u001b[49m\u001b[38;5;241;43m.\u001b[39;49m\u001b[43minvoke\u001b[49m\u001b[43m(\u001b[49m\u001b[43mtask\u001b[49m\u001b[38;5;241;43m.\u001b[39;49m\u001b[43minput\u001b[49m\u001b[43m,\u001b[49m\u001b[43m \u001b[49m\u001b[43mconfig\u001b[49m\u001b[43m)\u001b[49m\n\u001b[0;32m     41\u001b[0m \u001b[38;5;28;01mexcept\u001b[39;00m ParentCommand \u001b[38;5;28;01mas\u001b[39;00m exc:\n\u001b[0;32m     42\u001b[0m     ns: \u001b[38;5;28mstr\u001b[39m \u001b[38;5;241m=\u001b[39m config[CONF][CONFIG_KEY_CHECKPOINT_NS]\n",
      "File \u001b[1;32mc:\\Users\\dangn\\Phu\\HDSI_Capstone\\final-project\\db_venv\\lib\\site-packages\\langgraph\\utils\\runnable.py:462\u001b[0m, in \u001b[0;36mRunnableSeq.invoke\u001b[1;34m(self, input, config, **kwargs)\u001b[0m\n\u001b[0;32m    458\u001b[0m config \u001b[38;5;241m=\u001b[39m patch_config(\n\u001b[0;32m    459\u001b[0m     config, callbacks\u001b[38;5;241m=\u001b[39mrun_manager\u001b[38;5;241m.\u001b[39mget_child(\u001b[38;5;124mf\u001b[39m\u001b[38;5;124m\"\u001b[39m\u001b[38;5;124mseq:step:\u001b[39m\u001b[38;5;132;01m{\u001b[39;00mi\u001b[38;5;250m \u001b[39m\u001b[38;5;241m+\u001b[39m\u001b[38;5;250m \u001b[39m\u001b[38;5;241m1\u001b[39m\u001b[38;5;132;01m}\u001b[39;00m\u001b[38;5;124m\"\u001b[39m)\n\u001b[0;32m    460\u001b[0m )\n\u001b[0;32m    461\u001b[0m \u001b[38;5;28;01mif\u001b[39;00m i \u001b[38;5;241m==\u001b[39m \u001b[38;5;241m0\u001b[39m:\n\u001b[1;32m--> 462\u001b[0m     \u001b[38;5;28minput\u001b[39m \u001b[38;5;241m=\u001b[39m step\u001b[38;5;241m.\u001b[39minvoke(\u001b[38;5;28minput\u001b[39m, config, \u001b[38;5;241m*\u001b[39m\u001b[38;5;241m*\u001b[39mkwargs)\n\u001b[0;32m    463\u001b[0m \u001b[38;5;28;01melse\u001b[39;00m:\n\u001b[0;32m    464\u001b[0m     \u001b[38;5;28minput\u001b[39m \u001b[38;5;241m=\u001b[39m step\u001b[38;5;241m.\u001b[39minvoke(\u001b[38;5;28minput\u001b[39m, config)\n",
      "File \u001b[1;32mc:\\Users\\dangn\\Phu\\HDSI_Capstone\\final-project\\db_venv\\lib\\site-packages\\langgraph\\utils\\runnable.py:226\u001b[0m, in \u001b[0;36mRunnableCallable.invoke\u001b[1;34m(self, input, config, **kwargs)\u001b[0m\n\u001b[0;32m    224\u001b[0m \u001b[38;5;28;01melse\u001b[39;00m:\n\u001b[0;32m    225\u001b[0m     context\u001b[38;5;241m.\u001b[39mrun(_set_config_context, config)\n\u001b[1;32m--> 226\u001b[0m     ret \u001b[38;5;241m=\u001b[39m context\u001b[38;5;241m.\u001b[39mrun(\u001b[38;5;28mself\u001b[39m\u001b[38;5;241m.\u001b[39mfunc, \u001b[38;5;241m*\u001b[39margs, \u001b[38;5;241m*\u001b[39m\u001b[38;5;241m*\u001b[39mkwargs)\n\u001b[0;32m    227\u001b[0m \u001b[38;5;28;01mif\u001b[39;00m \u001b[38;5;28misinstance\u001b[39m(ret, Runnable) \u001b[38;5;129;01mand\u001b[39;00m \u001b[38;5;28mself\u001b[39m\u001b[38;5;241m.\u001b[39mrecurse:\n\u001b[0;32m    228\u001b[0m     \u001b[38;5;28;01mreturn\u001b[39;00m ret\u001b[38;5;241m.\u001b[39minvoke(\u001b[38;5;28minput\u001b[39m, config)\n",
      "\u001b[1;31mTypeError\u001b[0m: test_func() takes 0 positional arguments but 1 was given"
     ]
    }
   ],
   "source": [
    "# open database connection + test\n",
    "\n",
    "with Connection.connect(DB_URI, **connection_kwargs) as conn:\n",
    "    checkpointer = PostgresSaver(conn)\n",
    "\n",
    "    # Compile workflow with persistence\n",
    "    app = workflow.compile(checkpointer=checkpointer)\n",
    "\n",
    "    # user_prompt = \"how can I save energy use at home?\"\n",
    "    \n",
    "    # Step 1: run input moderation before sending the user prompt to the LLM\n",
    "    # check_res = rails.generate(messages=[{\n",
    "    #     \"role\": \"user\",\n",
    "    #     \"content\": test_prompt}])\n",
    "\n",
    "    # check_res = rails.generate(test_prompt)\n",
    "\n",
    "\n",
    "    # print(f\"Pass input moderation: {check_res}\")\n",
    "    # info = rails.explain()\n",
    "    # info.print_llm_calls_summary()\n",
    "\n",
    "\n",
    "    # TEST\n",
    "    # test = rails.generate(\"how can I save energy at home?\")\n",
    "    # print(f\"Pass output moderation: {test}\")\n",
    "    # info.print_llm_calls_summary()\n",
    "\n",
    "\n",
    "    # if \"yes\" in check_res.lower():\n",
    "    # specify configuration and input\n",
    "    config = {\"configurable\": {\"thread_id\": \"5\"}}\n",
    "    input_data = {\"messages\": [(\"human\", test_prompt)]}\n",
    "\n",
    "    # run the workflow\n",
    "    response = app.invoke(input_data, config)\n",
    "    print(\"Workflow response:\", response)\n",
    "\n",
    "    # retrieve the checkpoint tuple\n",
    "    checkpoint_tuple = checkpointer.get_tuple(config)\n",
    "    \n",
    "    # else:\n",
    "    # print(\"I cannot assist with your inquiry.\")\n",
    "\n",
    "    print(\"Workflow Response:\", response)\n",
    "    print(\"Checkpoint Tuple:\", checkpoint_tuple)\n"
   ]
  },
  {
   "cell_type": "code",
   "execution_count": 11,
   "metadata": {},
   "outputs": [
    {
     "name": "stdout",
     "output_type": "stream",
     "text": [
      "Summary: 3 LLM call(s) took 1.16 seconds and used 480 tokens.\n",
      "\n",
      "1. Task `self_check_input` took 0.44 seconds and used 236 tokens.\n",
      "2. Task `general` took 0.41 seconds and used 94 tokens.\n",
      "3. Task `self_check_output` took 0.30 seconds and used 150 tokens.\n",
      "\n"
     ]
    }
   ],
   "source": [
    "# inspect NeMo\n",
    "info = rails.explain()\n",
    "info.print_llm_calls_summary()"
   ]
  },
  {
   "cell_type": "code",
   "execution_count": 12,
   "metadata": {},
   "outputs": [
    {
     "name": "stdout",
     "output_type": "stream",
     "text": [
      "\n",
      "[cyan]User[/]\n",
      "Your task is to check if the bot message below complies with chatbot regulations.\n",
      "\n",
      "Company policy for the bot:\n",
      "- Messages should not contain explicit content, even if just a few words.\n",
      "- Messages should not contain abusive language or offensive content, even if just a few words.\n",
      "- Messages should not contain any harmful content.\n",
      "- Messages should not contain racially insensitive content.\n",
      "- Messages should not contain any word that can be considered offensive.\n",
      "- If a message is a refusal, it should be polite.\n",
      "- It's okay to give instructions to users on how to use the bot or how to uphold chatbot regulations.\n",
      "\n",
      "Bot message: \"Yes\"\n",
      "\n",
      "Question: Should the message be blocked? (Yes or No)\n",
      "Answer:\n"
     ]
    }
   ],
   "source": [
    "print(info.llm_calls[2].prompt)"
   ]
  },
  {
   "cell_type": "code",
   "execution_count": 13,
   "metadata": {},
   "outputs": [
    {
     "name": "stdout",
     "output_type": "stream",
     "text": [
      "No\n"
     ]
    }
   ],
   "source": [
    "print(info.llm_calls[0].completion)"
   ]
  },
  {
   "cell_type": "code",
   "execution_count": 14,
   "metadata": {},
   "outputs": [
    {
     "name": "stdout",
     "output_type": "stream",
     "text": [
      "To analyze the dataset for trends and anomalies, let's first address the two questions:\n",
      "\n",
      "1. **Sources with Increasing Trend**:\n",
      "   - **Home Office**: There's a noticeable increase in usage starting from January 2016 (0.054 kW) peaking to higher values, like 0.099 kW in August 2016, and generally staying higher than the December 2015 value.\n",
      "   - **Wine Cellar**: Usage significantly increases, particularly noticeable from March 2016 (0.029 kW) to August 2016 (0.099 kW).\n",
      "   - **Fridge**: There seems to be increased usage over the months with the peak in July 2016 (0.079 kW) and August 2016 (0.085 kW).\n",
      "   - **Microwave**: Displayed increasing usage towards the end of the period, noticeable from 0.004 kW in December 2015 to 0.014 kW in October 2016. \n",
      "\n",
      "2. **Significant Outliers or Anomalies**:\n",
      "   - **July 2016**: Extremely high total usage of 1.165 kW with considerable increases in Home Office, Wine Cellar, and Fridge, which could suggest prolonged equipment use or an event requiring excessive energy.\n",
      "   - **August 2016**: Highest consumption of 1.4 kW stands out, driven by continued high usage in areas like Fridge and Wine Cellar.\n",
      "\n",
      "For **actionable insights**:\n",
      "- **Fridge & Wine Cellar**: Consider inspecting these appliances for efficiency issues or ensure that they are only running when needed. These could have higher consumption due to operational inefficiencies or temperature setting issues.\n",
      "- **Home Office**: If possible, try scheduling high-energy usage activities during periods of peak solar generation to offset costs.\n",
      "- **Microwave**: Monitor usage times, reduce unnecessary long periods of operation by leveraging more efficient cooking practices.\n",
      "\n",
      "By addressing these areas and monitoring the usage patterns, you could better optimize your energy usage and potentially see a reduction in your utility expenses.\n"
     ]
    }
   ],
   "source": [
    "# inspect LangGraph response\n",
    "\n",
    "print(\"\"\"To analyze the dataset for trends and anomalies, let's first address the two questions:\\n\\n1. **Sources with Increasing Trend**:\\n   - **Home Office**: There's a noticeable increase in usage starting from January 2016 (0.054 kW) peaking to higher values, like 0.099 kW in August 2016, and generally staying higher than the December 2015 value.\\n   - **Wine Cellar**: Usage significantly increases, particularly noticeable from March 2016 (0.029 kW) to August 2016 (0.099 kW).\\n   - **Fridge**: There seems to be increased usage over the months with the peak in July 2016 (0.079 kW) and August 2016 (0.085 kW).\\n   - **Microwave**: Displayed increasing usage towards the end of the period, noticeable from 0.004 kW in December 2015 to 0.014 kW in October 2016. \\n\\n2. **Significant Outliers or Anomalies**:\\n   - **July 2016**: Extremely high total usage of 1.165 kW with considerable increases in Home Office, Wine Cellar, and Fridge, which could suggest prolonged equipment use or an event requiring excessive energy.\\n   - **August 2016**: Highest consumption of 1.4 kW stands out, driven by continued high usage in areas like Fridge and Wine Cellar.\\n\\nFor **actionable insights**:\\n- **Fridge & Wine Cellar**: Consider inspecting these appliances for efficiency issues or ensure that they are only running when needed. These could have higher consumption due to operational inefficiencies or temperature setting issues.\\n- **Home Office**: If possible, try scheduling high-energy usage activities during periods of peak solar generation to offset costs.\\n- **Microwave**: Monitor usage times, reduce unnecessary long periods of operation by leveraging more efficient cooking practices.\\n\\nBy addressing these areas and monitoring the usage patterns, you could better optimize your energy usage and potentially see a reduction in your utility expenses.\"\"\")"
   ]
  },
  {
   "cell_type": "code",
   "execution_count": 13,
   "metadata": {},
   "outputs": [],
   "source": [
    "# function to get checkpoint\n",
    "\n",
    "def get_checkpoint(id):\n",
    "    \n",
    "    with Connection.connect(DB_URI, **connection_kwargs) as conn:\n",
    "        config = {\"configurable\": {\"thread_id\": str(id)}}\n",
    "        checkpointer = PostgresSaver(conn)\n",
    "        checkpoint_tuple = checkpointer.get_tuple(config)\n",
    "        print(\"Checkpoint Tuple:\", checkpoint_tuple)"
   ]
  },
  {
   "cell_type": "code",
   "execution_count": 14,
   "metadata": {},
   "outputs": [
    {
     "name": "stdout",
     "output_type": "stream",
     "text": [
      "Checkpoint Tuple: CheckpointTuple(config={'configurable': {'thread_id': '5', 'checkpoint_ns': '', 'checkpoint_id': '1eff2403-8b5e-6d94-8007-e0912ac4c444'}}, checkpoint={'v': 1, 'id': '1eff2403-8b5e-6d94-8007-e0912ac4c444', 'ts': '2025-02-23T23:45:11.505038+00:00', 'pending_sends': [], 'versions_seen': {'model': {'start:model': '00000000000000000000000000000008.0.78534776715067'}, '__input__': {}, '__start__': {'__start__': '00000000000000000000000000000007.0.6852427880925172'}}, 'channel_versions': {'model': '00000000000000000000000000000009.0.6053688574565573', 'messages': '00000000000000000000000000000009.0.0291753458090811', '__start__': '00000000000000000000000000000008.0.24629125056190093', 'start:model': '00000000000000000000000000000009.0.5826676357939201'}, 'channel_values': {'model': 'model', 'messages': [HumanMessage(content='\\n    This is a time-series dataset of utility usage for a smart home:\\n\\n    The dataset contains the following columns:\\n    use, gen, Dishwasher, Furnace_1, Furnace_2, Home_office, Fridge, Wine_cellar, Garage_door, Kitchen_12, Kitchen_14, Kitchen_38, Barn, Well, Microwave, Living_room, kitchen, Furnace\\n\\n    Column description (everything in kilowatt):\\n    \"use\" contains total energy consumption\\n    \"gen\" contains total energy generated by means of solar or other power generation resources\\n    The rest of the columns either contain energy consumed by a specific appliance or room in the house\\n\\n    Summary usage by month:\\n                    use       gen  Dishwasher  Furnace_1  Furnace_2  Home_office    Fridge  Wine_cellar  Garage_door  Kitchen_12  Kitchen_14  Kitchen_38      Barn      Well  Microwave  Living_room   kitchen   Furnace\\n    2015-12-31  0.836898  0.003448    0.000091   0.238546   0.253805     0.054039  0.060343     0.007168     0.013105    0.000596    0.000156    0.000014  0.034275  0.001016   0.004256     0.001633  0.000765  0.492352\\n    2016-01-31  1.047812  0.059034    0.039739   0.221878   0.234376     0.091420  0.055713     0.018900     0.013647    0.002872    0.007600    0.000010  0.074052  0.017327   0.009432     0.044356  0.010482  0.456255\\n    2016-02-29  0.995173  0.058891    0.031232   0.222302   0.234220     0.069926  0.053357     0.019491     0.013786    0.002907    0.006851    0.000011  0.069036  0.017568   0.007959     0.034542  0.009769  0.456522\\n    2016-03-31  0.770586  0.083415    0.034448   0.118393   0.173024     0.080134  0.053053     0.029050     0.013790    0.000656    0.008312    0.000011  0.040879  0.016721   0.008835     0.035553  0.008979  0.291417\\n    2016-04-30  0.690589  0.089860    0.030955   0.094915   0.122734     0.071471  0.057580     0.036019     0.014573    0.000613    0.006815    0.000010  0.061524  0.014753   0.011446     0.035707  0.007438  0.217649\\n    2016-05-31  0.570911  0.082698    0.026486   0.048589   0.085656     0.062082  0.059366     0.036092     0.013750    0.000808    0.005549    0.000010  0.075403  0.009305   0.009396     0.024818  0.006366  0.134245\\n    2016-06-30  0.537512  0.106605    0.026522   0.025971   0.067307     0.077959  0.069597     0.046525     0.014561    0.000836    0.005723    0.000009  0.071232  0.019061   0.008029     0.027586  0.006568  0.093277\\n    2016-07-31  1.165928  0.091958    0.026554   0.060952   0.109885     0.093516  0.079352     0.064768     0.014563    0.002790    0.006819    0.000009  0.051821  0.017802   0.011128     0.023662  0.009618  0.170838\\n    2016-08-31  1.400862  0.091221    0.031419   0.069776   0.127411     0.099653  0.084534     0.098990     0.013831    0.004962    0.007028    0.000009  0.036223  0.014269   0.013601     0.040737  0.011999  0.197187\\n    2016-09-30  0.722752  0.082260    0.030318   0.030985   0.076128     0.082817  0.074198     0.063424     0.014452    0.005606    0.006822    0.000009  0.062955  0.013834   0.010799     0.033432  0.012437  0.107113\\n    2016-10-31  0.682110  0.054308    0.030859   0.046078   0.103116     0.088901  0.061057     0.030076     0.014488    0.003710    0.007460    0.000009  0.061934  0.014195   0.014059     0.032818  0.011179  0.149193\\n    2016-11-30  0.842199  0.051300    0.032169   0.112768   0.138107     0.082647  0.056133     0.028830     0.014302    0.004504    0.008514    0.000009  0.053323  0.018005   0.011663     0.051442  0.013027  0.250875\\n    2016-12-31  0.934789  0.040754    0.033800   0.191171   0.213707     0.075729  0.051394     0.024994     0.014050    0.003543    0.007113    0.000009  0.034346  0.015905   0.009571     0.051298  0.010664  0.404878\\n\\n    Sample data:\\n    use,gen,Dishwasher,Furnace_1,Furnace_2,Home_office,Fridge,Wine_cellar,Garage_door,Kitchen_12,Kitchen_14,Kitchen_38,Barn,Well,Microwave,Living_room,kitchen,Furnace\\n    0.6316,0.003466667,3.33e-05,0.158883333,0.0639,0.0434,0.0825,0.009083333,0.012983333,0.000516667,5e-05,0.0,0.031766667,0.001033333,0.004083333,0.001616667,0.000566667,0.22278333299999997\\n    1.070016667,0.0035,0.000233333,0.497633333,0.0629,0.043583333,0.170883333,0.008883333,0.0125,0.00035,0.000216667,1.67e-05,0.0317,0.001083333,0.004083333,0.001683333,0.000583367,0.560533333\\n    1.01625,0.003466667,0.000216667,0.466683333,0.062766667,0.043533333,0.14955,0.0089,0.012566667,0.000416667,0.0002,1.67e-05,0.031733333,0.001016667,0.004083333,0.001683333,0.000633367,0.52945\\n    0.820666667,0.003466667,0.000216667,0.44695,0.062916667,0.043583333,0.0105,0.007733333,0.012616667,0.000733333,0.000333333,1.67e-05,0.031766667,0.001016667,0.0041,0.0016,0.0010833659999999999,0.509866667\\n    0.539166667,0.003516667,3.33e-05,0.100133333,0.116283333,0.043366667,0.007616667,0.007083333,0.013133333,0.000683333,5e-05,0.0,0.0318,0.001016667,0.004083333,0.001616667,0.0007333330000000001,0.216416666\\n\\n    Please answer the following questions:\\n    1. Identify any sources with an increasing trend in electricity usage over time. \\n    2. Highlight any significant outliers or anomalies.\\n', additional_kwargs={}, response_metadata={}, id='4724c413-739a-4492-afee-0a53397f8c6f'), AIMessage(content=\"To analyze the dataset for trends and anomalies, let's first address the two questions:\\n\\n1. **Sources with Increasing Trend**:\\n   - **Home Office**: There's a noticeable increase in usage starting from January 2016 (0.054 kW) peaking to higher values, like 0.099 kW in August 2016, and generally staying higher than the December 2015 value.\\n   - **Wine Cellar**: Usage significantly increases, particularly noticeable from March 2016 (0.029 kW) to August 2016 (0.099 kW).\\n   - **Fridge**: There seems to be increased usage over the months with the peak in July 2016 (0.079 kW) and August 2016 (0.085 kW).\\n   - **Microwave**: Displayed increasing usage towards the end of the period, noticeable from 0.004 kW in December 2015 to 0.014 kW in October 2016. \\n\\n2. **Significant Outliers or Anomalies**:\\n   - **July 2016**: Extremely high total usage of 1.165 kW with considerable increases in Home Office, Wine Cellar, and Fridge, which could suggest prolonged equipment use or an event requiring excessive energy.\\n   - **August 2016**: Highest consumption of 1.4 kW stands out, driven by continued high usage in areas like Fridge and Wine Cellar.\\n\\nFor **actionable insights**:\\n- **Fridge & Wine Cellar**: Consider inspecting these appliances for efficiency issues or ensure that they are only running when needed. These could have higher consumption due to operational inefficiencies or temperature setting issues.\\n- **Home Office**: If possible, try scheduling high-energy usage activities during periods of peak solar generation to offset costs.\\n- **Microwave**: Monitor usage times, reduce unnecessary long periods of operation by leveraging more efficient cooking practices.\\n\\nBy addressing these areas and monitoring the usage patterns, you could better optimize your energy usage and potentially see a reduction in your utility expenses.\", additional_kwargs={'refusal': None}, response_metadata={'token_usage': {'completion_tokens': 430, 'prompt_tokens': 2423, 'total_tokens': 2853, 'completion_tokens_details': {'accepted_prediction_tokens': 0, 'audio_tokens': 0, 'reasoning_tokens': 0, 'rejected_prediction_tokens': 0}, 'prompt_tokens_details': {'audio_tokens': 0, 'cached_tokens': 0}}, 'model_name': 'gpt-4o-2024-08-06', 'system_fingerprint': 'fp_50cad350e4', 'finish_reason': 'stop', 'logprobs': None}, id='run-7e0ba032-3209-46ca-9e84-41fb97d00456-0', usage_metadata={'input_tokens': 2423, 'output_tokens': 430, 'total_tokens': 2853, 'input_token_details': {'audio': 0, 'cache_read': 0}, 'output_token_details': {'audio': 0, 'reasoning': 0}}), HumanMessage(content='What did I just ask you?', additional_kwargs={}, response_metadata={}, id='9b53b46e-107e-48b9-9ab2-fab649675db8'), AIMessage(content='You asked me to identify any sources with an increasing trend in electricity usage over time from a time-series dataset of utility usage for a smart home. Additionally, you wanted me to highlight any significant outliers or anomalies present in the data.', additional_kwargs={'refusal': None}, response_metadata={'token_usage': {'completion_tokens': 48, 'prompt_tokens': 2867, 'total_tokens': 2915, 'completion_tokens_details': {'accepted_prediction_tokens': 0, 'audio_tokens': 0, 'reasoning_tokens': 0, 'rejected_prediction_tokens': 0}, 'prompt_tokens_details': {'audio_tokens': 0, 'cached_tokens': 2688}}, 'model_name': 'gpt-4o-2024-08-06', 'system_fingerprint': 'fp_50cad350e4', 'finish_reason': 'stop', 'logprobs': None}, id='run-54201e70-f5ef-4444-9e3c-9822804f09a6-0', usage_metadata={'input_tokens': 2867, 'output_tokens': 48, 'total_tokens': 2915, 'input_token_details': {'audio': 0, 'cache_read': 2688}, 'output_token_details': {'audio': 0, 'reasoning': 0}}), HumanMessage(content='\\n    This is a time-series dataset of utility usage for a smart home:\\n\\n    The dataset contains the following columns:\\n    use, gen, Dishwasher, Furnace_1, Furnace_2, Home_office, Fridge, Wine_cellar, Garage_door, Kitchen_12, Kitchen_14, Kitchen_38, Barn, Well, Microwave, Living_room, kitchen, Furnace\\n\\n    Column description (everything in kilowatt):\\n    \"use\" contains total energy consumption\\n    \"gen\" contains total energy generated by means of solar or other power generation resources\\n    The rest of the columns either contain energy consumed by a specific appliance or room in the house\\n\\n    Summary usage by month:\\n                    use       gen  Dishwasher  Furnace_1  Furnace_2  Home_office    Fridge  Wine_cellar  Garage_door  Kitchen_12  Kitchen_14  Kitchen_38      Barn      Well  Microwave  Living_room   kitchen   Furnace\\n    2015-12-31  0.836898  0.003448    0.000091   0.238546   0.253805     0.054039  0.060343     0.007168     0.013105    0.000596    0.000156    0.000014  0.034275  0.001016   0.004256     0.001633  0.000765  0.492352\\n    2016-01-31  1.047812  0.059034    0.039739   0.221878   0.234376     0.091420  0.055713     0.018900     0.013647    0.002872    0.007600    0.000010  0.074052  0.017327   0.009432     0.044356  0.010482  0.456255\\n    2016-02-29  0.995173  0.058891    0.031232   0.222302   0.234220     0.069926  0.053357     0.019491     0.013786    0.002907    0.006851    0.000011  0.069036  0.017568   0.007959     0.034542  0.009769  0.456522\\n    2016-03-31  0.770586  0.083415    0.034448   0.118393   0.173024     0.080134  0.053053     0.029050     0.013790    0.000656    0.008312    0.000011  0.040879  0.016721   0.008835     0.035553  0.008979  0.291417\\n    2016-04-30  0.690589  0.089860    0.030955   0.094915   0.122734     0.071471  0.057580     0.036019     0.014573    0.000613    0.006815    0.000010  0.061524  0.014753   0.011446     0.035707  0.007438  0.217649\\n    2016-05-31  0.570911  0.082698    0.026486   0.048589   0.085656     0.062082  0.059366     0.036092     0.013750    0.000808    0.005549    0.000010  0.075403  0.009305   0.009396     0.024818  0.006366  0.134245\\n    2016-06-30  0.537512  0.106605    0.026522   0.025971   0.067307     0.077959  0.069597     0.046525     0.014561    0.000836    0.005723    0.000009  0.071232  0.019061   0.008029     0.027586  0.006568  0.093277\\n    2016-07-31  1.165928  0.091958    0.026554   0.060952   0.109885     0.093516  0.079352     0.064768     0.014563    0.002790    0.006819    0.000009  0.051821  0.017802   0.011128     0.023662  0.009618  0.170838\\n    2016-08-31  1.400862  0.091221    0.031419   0.069776   0.127411     0.099653  0.084534     0.098990     0.013831    0.004962    0.007028    0.000009  0.036223  0.014269   0.013601     0.040737  0.011999  0.197187\\n    2016-09-30  0.722752  0.082260    0.030318   0.030985   0.076128     0.082817  0.074198     0.063424     0.014452    0.005606    0.006822    0.000009  0.062955  0.013834   0.010799     0.033432  0.012437  0.107113\\n    2016-10-31  0.682110  0.054308    0.030859   0.046078   0.103116     0.088901  0.061057     0.030076     0.014488    0.003710    0.007460    0.000009  0.061934  0.014195   0.014059     0.032818  0.011179  0.149193\\n    2016-11-30  0.842199  0.051300    0.032169   0.112768   0.138107     0.082647  0.056133     0.028830     0.014302    0.004504    0.008514    0.000009  0.053323  0.018005   0.011663     0.051442  0.013027  0.250875\\n    2016-12-31  0.934789  0.040754    0.033800   0.191171   0.213707     0.075729  0.051394     0.024994     0.014050    0.003543    0.007113    0.000009  0.034346  0.015905   0.009571     0.051298  0.010664  0.404878\\n\\n    Sample data:\\n    use,gen,Dishwasher,Furnace_1,Furnace_2,Home_office,Fridge,Wine_cellar,Garage_door,Kitchen_12,Kitchen_14,Kitchen_38,Barn,Well,Microwave,Living_room,kitchen,Furnace\\n    0.6316,0.003466667,3.33e-05,0.158883333,0.0639,0.0434,0.0825,0.009083333,0.012983333,0.000516667,5e-05,0.0,0.031766667,0.001033333,0.004083333,0.001616667,0.000566667,0.22278333299999997\\n    1.070016667,0.0035,0.000233333,0.497633333,0.0629,0.043583333,0.170883333,0.008883333,0.0125,0.00035,0.000216667,1.67e-05,0.0317,0.001083333,0.004083333,0.001683333,0.000583367,0.560533333\\n    1.01625,0.003466667,0.000216667,0.466683333,0.062766667,0.043533333,0.14955,0.0089,0.012566667,0.000416667,0.0002,1.67e-05,0.031733333,0.001016667,0.004083333,0.001683333,0.000633367,0.52945\\n    0.820666667,0.003466667,0.000216667,0.44695,0.062916667,0.043583333,0.0105,0.007733333,0.012616667,0.000733333,0.000333333,1.67e-05,0.031766667,0.001016667,0.0041,0.0016,0.0010833659999999999,0.509866667\\n    0.539166667,0.003516667,3.33e-05,0.100133333,0.116283333,0.043366667,0.007616667,0.007083333,0.013133333,0.000683333,5e-05,0.0,0.0318,0.001016667,0.004083333,0.001616667,0.0007333330000000001,0.216416666\\n\\n    Please answer the following questions:\\n    1. Identify any sources with an increasing trend in electricity usage over time. \\n    2. Highlight any significant outliers or anomalies.\\n', additional_kwargs={}, response_metadata={}, id='2aff6dff-d01a-4071-b039-1565d6035c2e'), AIMessage(content=\"To analyze the trends and anomalies within your smart home utility usage data:\\n\\n1. **Sources with Increasing Trend**:\\n   - **Home Office**: Usage rose significantly in early 2016, peaking at 0.099 kW in August, which is notably higher than the December 2015 base of 0.054 kW.\\n   - **Wine Cellar**: There's a noticeable upward trend, especially from March (0.029 kW) to August 2016 (0.099 kW).\\n   - **Fridge**: Shows increased energy usage from July (0.079 kW) to August 2016 (0.085 kW), consistently higher compared to earlier months.\\n   - **Microwave**: Usage increases towards the end of 2016, from 0.004 kW in December 2015 to 0.014 kW by October 2016.\\n\\n2. **Significant Outliers or Anomalies**:\\n   - **July 2016**: Marked by high total consumption of 1.165 kW, disproportionately driven by high Home Office, Fridge, and Wine Cellar usage.\\n   - **August 2016**: Total usage surged to 1.4 kW, with significant contributions from Fridge and Wine Cellar, representing peak values for these appliances.\\n\\n**Suggestions**:\\n- **Fridge & Wine Cellar**: Check for inefficiencies or unnecessary settings, such as temperature too low, causing higher energy use.\\n- **Home Office**: Optimize usage during solar generation peaks to cut costs.\\n- **Microwave**: Reduce operational time and assess efficiency for appliances approach.\\n\\nBy focusing on optimizing and monitoring these areas, you may reduce overall utility costs.\", additional_kwargs={'refusal': None}, response_metadata={'token_usage': {'completion_tokens': 359, 'prompt_tokens': 5281, 'total_tokens': 5640, 'completion_tokens_details': {'accepted_prediction_tokens': 0, 'audio_tokens': 0, 'reasoning_tokens': 0, 'rejected_prediction_tokens': 0}, 'prompt_tokens_details': {'audio_tokens': 0, 'cached_tokens': 0}}, 'model_name': 'gpt-4o-2024-08-06', 'system_fingerprint': 'fp_eb9dce56a8', 'finish_reason': 'stop', 'logprobs': None}, id='run-d9b90b76-9646-40ef-ae68-b69d61e9b13d-0', usage_metadata={'input_tokens': 5281, 'output_tokens': 359, 'total_tokens': 5640, 'input_token_details': {'audio': 0, 'cache_read': 0}, 'output_token_details': {'audio': 0, 'reasoning': 0}})]}}, metadata={'step': 7, 'source': 'loop', 'writes': {'model': {'messages': AIMessage(content=\"To analyze the trends and anomalies within your smart home utility usage data:\\n\\n1. **Sources with Increasing Trend**:\\n   - **Home Office**: Usage rose significantly in early 2016, peaking at 0.099 kW in August, which is notably higher than the December 2015 base of 0.054 kW.\\n   - **Wine Cellar**: There's a noticeable upward trend, especially from March (0.029 kW) to August 2016 (0.099 kW).\\n   - **Fridge**: Shows increased energy usage from July (0.079 kW) to August 2016 (0.085 kW), consistently higher compared to earlier months.\\n   - **Microwave**: Usage increases towards the end of 2016, from 0.004 kW in December 2015 to 0.014 kW by October 2016.\\n\\n2. **Significant Outliers or Anomalies**:\\n   - **July 2016**: Marked by high total consumption of 1.165 kW, disproportionately driven by high Home Office, Fridge, and Wine Cellar usage.\\n   - **August 2016**: Total usage surged to 1.4 kW, with significant contributions from Fridge and Wine Cellar, representing peak values for these appliances.\\n\\n**Suggestions**:\\n- **Fridge & Wine Cellar**: Check for inefficiencies or unnecessary settings, such as temperature too low, causing higher energy use.\\n- **Home Office**: Optimize usage during solar generation peaks to cut costs.\\n- **Microwave**: Reduce operational time and assess efficiency for appliances approach.\\n\\nBy focusing on optimizing and monitoring these areas, you may reduce overall utility costs.\", additional_kwargs={'refusal': None}, response_metadata={'logprobs': None, 'model_name': 'gpt-4o-2024-08-06', 'token_usage': {'total_tokens': 5640, 'prompt_tokens': 5281, 'completion_tokens': 359, 'prompt_tokens_details': {'audio_tokens': 0, 'cached_tokens': 0}, 'completion_tokens_details': {'audio_tokens': 0, 'reasoning_tokens': 0, 'accepted_prediction_tokens': 0, 'rejected_prediction_tokens': 0}}, 'finish_reason': 'stop', 'system_fingerprint': 'fp_eb9dce56a8'}, id='run-d9b90b76-9646-40ef-ae68-b69d61e9b13d-0', usage_metadata={'input_tokens': 5281, 'output_tokens': 359, 'total_tokens': 5640, 'input_token_details': {'audio': 0, 'cache_read': 0}, 'output_token_details': {'audio': 0, 'reasoning': 0}})}}, 'parents': {}, 'thread_id': '5'}, parent_config={'configurable': {'thread_id': '5', 'checkpoint_ns': '', 'checkpoint_id': '1eff2403-3718-6b24-8006-44f3c32d557a'}}, pending_writes=[])\n"
     ]
    }
   ],
   "source": [
    "get_checkpoint(5)"
   ]
  },
  {
   "cell_type": "markdown",
   "metadata": {},
   "source": [
    "##### sanity check\n",
    "\n",
    "Checkpoint Tuple: CheckpointTuple(config={'configurable': {'thread_id': '5', 'checkpoint_ns': '', 'checkpoint_id': '1efe1fbb-f310-6c52-8001-9f0547961a7c'}}, checkpoint={'v': 1, 'id': '1efe1fbb-f310-6c52-8001-9f0547961a7c', 'ts': '2025-02-03T06:54:43.247829+00:00', 'pending_sends': [], 'versions_seen': {'model': {'start:model': '00000000000000000000000000000002.0.8505414510573167'}, '__input__': {}, '__start__': {'__start__': '00000000000000000000000000000001.0.2124756237778367'}}, 'channel_versions': {'model': '00000000000000000000000000000003.0.9656790533439723', 'messages': '00000000000000000000000000000003.0.21247764883461817', '__start__': '00000000000000000000000000000002.0.16660232414228993', 'start:model': '00000000000000000000000000000003.0.33132537851380817'}, 'channel_values': {'model': 'model', 'messages': [HumanMessage(content='\\n    This is a time-series dataset of utility usage for a smart home:\\n\\n    The dataset contains the following columns:\\n    use, gen, Dishwasher, Furnace_1, Furnace_2, Home_office, Fridge, Wine_cellar, Garage_door, Kitchen_12, Kitchen_14, Kitchen_38, Barn, Well, Microwave, Living_room, kitchen, Furnace\\n\\n    Column description (everything in kilowatt):\\n    \"use\" contains total energy consumption\\n    \"gen\" contains total energy generated by means of solar or other power generation resources\\n    The rest of the columns either contain energy consumed by a specific appliance or room in the house\\n\\n    Summary usage by month:\\n                    use       gen  Dishwasher  Furnace_1  Furnace_2  Home_office    Fridge  Wine_cellar  Garage_door  Kitchen_12  Kitchen_14  Kitchen_38      Barn      Well  Microwave  Living_room   kitchen   Furnace\\n    2015-12-31  0.836898  0.003448    0.000091   0.238546   0.253805     0.054039  0.060343     0.007168     0.013105    0.000596    0.000156    0.000014  0.034275  0.001016   0.004256     0.001633  0.000765  0.492352\\n    2016-01-31  1.047812  0.059034    0.039739   0.221878   0.234376     0.091420  0.055713     0.018900     0.013647    0.002872    0.007600    0.000010  0.074052  0.017327   0.009432     0.044356  0.010482  0.456255\\n    2016-02-29  0.995173  0.058891    0.031232   0.222302   0.234220     0.069926  0.053357     0.019491     0.013786    0.002907    0.006851    0.000011  0.069036  0.017568   0.007959     0.034542  0.009769  0.456522\\n    2016-03-31  0.770586  0.083415    0.034448   0.118393   0.173024     0.080134  0.053053     0.029050     0.013790    0.000656    0.008312    0.000011  0.040879  0.016721   0.008835     0.035553  0.008979  0.291417\\n    2016-04-30  0.690589  0.089860    0.030955   0.094915   0.122734     0.071471  0.057580     0.036019     0.014573    0.000613    0.006815    0.000010  0.061524  0.014753   0.011446     0.035707  0.007438  0.217649\\n    2016-05-31  0.570911  0.082698    0.026486   0.048589   0.085656     0.062082  0.059366     0.036092     0.013750    0.000808    0.005549    0.000010  0.075403  0.009305   0.009396     0.024818  0.006366  0.134245\\n    2016-06-30  0.537512  0.106605    0.026522   0.025971   0.067307     0.077959  0.069597     0.046525     0.014561    0.000836    0.005723    0.000009  0.071232  0.019061   0.008029     0.027586  0.006568  0.093277\\n    2016-07-31  1.165928  0.091958    0.026554   0.060952   0.109885     0.093516  0.079352     0.064768     0.014563    0.002790    0.006819    0.000009  0.051821  0.017802   0.011128     0.023662  0.009618  0.170838\\n    2016-08-31  1.400862  0.091221    0.031419   0.069776   0.127411     0.099653  0.084534     0.098990     0.013831    0.004962    0.007028    0.000009  0.036223  0.014269   0.013601     0.040737  0.011999  0.197187\\n    2016-09-30  0.722752  0.082260    0.030318   0.030985   0.076128     0.082817  0.074198     0.063424     0.014452    0.005606    0.006822    0.000009  0.062955  0.013834   0.010799     0.033432  0.012437  0.107113\\n    2016-10-31  0.682110  0.054308    0.030859   0.046078   0.103116     0.088901  0.061057     0.030076     0.014488    0.003710    0.007460    0.000009  0.061934  0.014195   0.014059     0.032818  0.011179  0.149193\\n    2016-11-30  0.842199  0.051300    0.032169   0.112768   0.138107     0.082647  0.056133     0.028830     0.014302    0.004504    0.008514    0.000009  0.053323  0.018005   0.011663     0.051442  0.013027  0.250875\\n    2016-12-31  0.934789  0.040754    0.033800   0.191171   0.213707     0.075729  0.051394     0.024994     0.014050    0.003543    0.007113    0.000009  0.034346  0.015905   0.009571     0.051298  0.010664  0.404878\\n\\n    Sample data:\\n    use,gen,Dishwasher,Furnace_1,Furnace_2,Home_office,Fridge,Wine_cellar,Garage_door,Kitchen_12,Kitchen_14,Kitchen_38,Barn,Well,Microwave,Living_room,kitchen,Furnace\\n    0.6316,0.003466667,3.33e-05,0.158883333,0.0639,0.0434,0.0825,0.009083333,0.012983333,0.000516667,5e-05,0.0,0.031766667,0.001033333,0.004083333,0.001616667,0.000566667,0.22278333299999997\\n    1.070016667,0.0035,0.000233333,0.497633333,0.0629,0.043583333,0.170883333,0.008883333,0.0125,0.00035,0.000216667,1.67e-05,0.0317,0.001083333,0.004083333,0.001683333,0.000583367,0.560533333\\n    1.01625,0.003466667,0.000216667,0.466683333,0.062766667,0.043533333,0.14955,0.0089,0.012566667,0.000416667,0.0002,1.67e-05,0.031733333,0.001016667,0.004083333,0.001683333,0.000633367,0.52945\\n    0.820666667,0.003466667,0.000216667,0.44695,0.062916667,0.043583333,0.0105,0.007733333,0.012616667,0.000733333,0.000333333,1.67e-05,0.031766667,0.001016667,0.0041,0.0016,0.0010833659999999999,0.509866667\\n    0.539166667,0.003516667,3.33e-05,0.100133333,0.116283333,0.043366667,0.007616667,0.007083333,0.013133333,0.000683333,5e-05,0.0,0.0318,0.001016667,0.004083333,0.001616667,0.0007333330000000001,0.216416666\\n\\n    Please answer the following questions:\\n    1. Identify any sources with an increasing trend in electricity usage over time. \\n    2. Highlight any significant outliers or anomalies.\\n', additional_kwargs={}, response_metadata={}, id='4724c413-739a-4492-afee-0a53397f8c6f'), AIMessage(content=\"To analyze the dataset for trends and anomalies, let's first address the two questions:\\n\\n1. **Sources with Increasing Trend**:\\n   - **Home Office**: There's a noticeable increase in usage starting from January 2016 (0.054 kW) peaking to higher values, like 0.099 kW in August 2016, and generally staying higher than the December 2015 value.\\n   - **Wine Cellar**: Usage significantly increases, particularly noticeable from March 2016 (0.029 kW) to August 2016 (0.099 kW).\\n   - **Fridge**: There seems to be increased usage over the months with the peak in July 2016 (0.079 kW) and August 2016 (0.085 kW).\\n   - **Microwave**: Displayed increasing usage towards the end of the period, noticeable from 0.004 kW in December 2015 to 0.014 kW in October 2016. \\n\\n2. **Significant Outliers or Anomalies**:\\n   - **July 2016**: Extremely high total usage of 1.165 kW with considerable increases in Home Office, Wine Cellar, and Fridge, which could suggest prolonged equipment use or an event requiring excessive energy.\\n   - **August 2016**: Highest consumption of 1.4 kW stands out, driven by continued high usage in areas like Fridge and Wine Cellar.\\n\\nFor **actionable insights**:\\n- **Fridge & Wine Cellar**: Consider inspecting these appliances for efficiency issues or ensure that they are only running when needed. These could have higher consumption due to operational inefficiencies or temperature setting issues.\\n- **Home Office**: If possible, try scheduling high-energy usage activities during periods of peak solar generation to offset costs.\\n- **Microwave**: Monitor usage times, reduce unnecessary long periods of operation by leveraging more efficient cooking practices.\\n\\nBy addressing these areas and monitoring the usage patterns, you could better optimize your energy usage and potentially see a reduction in your utility expenses.\", additional_kwargs={'refusal': None}, response_metadata={'token_usage': {'completion_tokens': 430, 'prompt_tokens': 2423, 'total_tokens': 2853, 'completion_tokens_details': {'accepted_prediction_tokens': 0, 'audio_tokens': 0, 'reasoning_tokens': 0, 'rejected_prediction_tokens': 0}, 'prompt_tokens_details': {'audio_tokens': 0, 'cached_tokens': 0}}, 'model_name': 'gpt-4o-2024-08-06', 'system_fingerprint': 'fp_50cad350e4', 'finish_reason': 'stop', 'logprobs': None}, id='run-7e0ba032-3209-46ca-9e84-41fb97d00456-0', usage_metadata={'input_tokens': 2423, 'output_tokens': 430, 'total_tokens': 2853, 'input_token_details': {'audio': 0, 'cache_read': 0}, 'output_token_details': {'audio': 0, 'reasoning': 0}})]}}, metadata={'step': 1, 'source': 'loop', 'writes': {'model': {'messages': AIMessage(content=\"To analyze the dataset for trends and anomalies, let's first address the two questions:\\n\\n1. **Sources with Increasing Trend**:\\n   - **Home Office**: There's a noticeable increase in usage starting from January 2016 (0.054 kW) peaking to higher values, like 0.099 kW in August 2016, and generally staying higher than the December 2015 value.\\n   - **Wine Cellar**: Usage significantly increases, particularly noticeable from March 2016 (0.029 kW) to August 2016 (0.099 kW).\\n   - **Fridge**: There seems to be increased usage over the months with the peak in July 2016 (0.079 kW) and August 2016 (0.085 kW).\\n   - **Microwave**: Displayed increasing usage towards the end of the period, noticeable from 0.004 kW in December 2015 to 0.014 kW in October 2016. \\n\\n2. **Significant Outliers or Anomalies**:\\n   - **July 2016**: Extremely high total usage of 1.165 kW with considerable increases in Home Office, Wine Cellar, and Fridge, which could suggest prolonged equipment use or an event requiring excessive energy.\\n   - **August 2016**: Highest consumption of 1.4 kW stands out, driven by continued high usage in areas like Fridge and Wine Cellar.\\n\\nFor **actionable insights**:\\n- **Fridge & Wine Cellar**: Consider inspecting these appliances for efficiency issues or ensure that they are only running when needed. These could have higher consumption due to operational inefficiencies or temperature setting issues.\\n- **Home Office**: If possible, try scheduling high-energy usage activities during periods of peak solar generation to offset costs.\\n- **Microwave**: Monitor usage times, reduce unnecessary long periods of operation by leveraging more efficient cooking practices.\\n\\nBy addressing these areas and monitoring the usage patterns, you could better optimize your energy usage and potentially see a reduction in your utility expenses.\", additional_kwargs={'refusal': None}, response_metadata={'logprobs': None, 'model_name': 'gpt-4o-2024-08-06', 'token_usage': {'total_tokens': 2853, 'prompt_tokens': 2423, 'completion_tokens': 430, 'prompt_tokens_details': {'audio_tokens': 0, 'cached_tokens': 0}, 'completion_tokens_details': {'audio_tokens': 0, 'reasoning_tokens': 0, 'accepted_prediction_tokens': 0, 'rejected_prediction_tokens': 0}}, 'finish_reason': 'stop', 'system_fingerprint': 'fp_50cad350e4'}, id='run-7e0ba032-3209-46ca-9e84-41fb97d00456-0', usage_metadata={'input_tokens': 2423, 'output_tokens': 430, 'total_tokens': 2853, 'input_token_details': {'audio': 0, 'cache_read': 0}, 'output_token_details': {'audio': 0, 'reasoning': 0}})}}, 'parents': {}, 'thread_id': '5'}, parent_config={'configurable': {'thread_id': '5', 'checkpoint_ns': '', 'checkpoint_id': '1efe1fbb-7fcd-6e14-8000-56a86be166e5'}}, pending_writes=[])"
   ]
  },
  {
   "cell_type": "code",
   "execution_count": null,
   "metadata": {},
   "outputs": [],
   "source": [
    "from langgraph.checkpoint.postgres import PostgresSaver\n",
    "from langgraph.graph import Message\n",
    "from langchain.schema import AIMessage, HumanMessage\n",
    "from langchain_core.runnables import ConfigurableFieldSpec\n",
    "from sqlalchemy import create_engine\n",
    "\n",
    "# Initialize DB Connection\n",
    "engine = create_engine(DB_URI)\n",
    "connection_kwargs = {}  # Add specific kwargs if needed\n",
    "\n",
    "with engine.connect() as conn:\n",
    "    checkpointer = PostgresSaver(conn)\n",
    "\n",
    "    # Define user prompt and LLM response\n",
    "    user_prompt = \"how can I save energy use at home?\"\n",
    "    llm_response = \"You can save energy by using LED lighting, smart thermostats, and reducing phantom loads.\"\n",
    "\n",
    "    # Define a thread ID (Ensure this is unique per session)\n",
    "    thread_id = \"5\"\n",
    "\n",
    "    # Create a message list to mimic LangGraph's format\n",
    "    messages = [\n",
    "        Message(content=HumanMessage(content=user_prompt)),\n",
    "        Message(content=AIMessage(content=llm_response))\n",
    "    ]\n",
    "\n",
    "    # Save to LangGraph's persistence layer\n",
    "    checkpointer.put_tuple(config={\"configurable\": {\"thread_id\": thread_id}}, value=messages)\n",
    "\n",
    "    # Retrieve the stored conversation\n",
    "    saved_interaction = checkpointer.get_tuple({\"configurable\": {\"thread_id\": thread_id}})\n",
    "    print(\"Retrieved Conversation:\", saved_interaction)\n"
   ]
  },
  {
   "cell_type": "code",
   "execution_count": null,
   "metadata": {},
   "outputs": [],
   "source": [
    "# open database connection + test\n",
    "\n",
    "with Connection.connect(DB_URI, **connection_kwargs) as conn:\n",
    "    checkpointer = PostgresSaver(conn)\n",
    "\n",
    "    # Compile workflow with persistence\n",
    "    app = workflow.compile(checkpointer=checkpointer)\n",
    "\n",
    "    # user_prompt = \"how can I save energy use at home?\"\n",
    "\n",
    "    # specify configuration and input\n",
    "    config = {\"configurable\": {\"thread_id\": \"5\"}}\n",
    "    input_data = {\"messages\": [(\"human\", test_prompt)]}\n",
    "\n",
    "    # run the workflow\n",
    "    response = app.invoke(input_data, config)\n",
    "    print(\"Workflow response:\", response)\n",
    "\n",
    "    # retrieve the checkpoint tuple\n",
    "    checkpoint_tuple = checkpointer.get_tuple(config)\n",
    "        \n",
    "    # else:\n",
    "    #     print(\"I cannot assist with your inquiry.\")"
   ]
  },
  {
   "cell_type": "code",
   "execution_count": 151,
   "metadata": {},
   "outputs": [
    {
     "name": "stdout",
     "output_type": "stream",
     "text": [
      "\n",
      "content='You asked me to identify any sources with an increasing trend in electricity usage over time from a time-series dataset of utility usage for a smart home. Additionally, you wanted me to highlight any significant outliers or anomalies present in the data.' additional_kwargs={'refusal': None} response_metadata={'token_usage': {'completion_tokens': 48, 'prompt_tokens': 2867, 'total_tokens': 2915, 'completion_tokens_details': {'accepted_prediction_tokens': 0, 'audio_tokens': 0, 'reasoning_tokens': 0, 'rejected_prediction_tokens': 0}, 'prompt_tokens_details': {'audio_tokens': 0, 'cached_tokens': 2688}}, 'model_name': 'gpt-4o-2024-08-06', 'system_fingerprint': 'fp_50cad350e4', 'finish_reason': 'stop', 'logprobs': None} id='run-54201e70-f5ef-4444-9e3c-9822804f09a6-0' usage_metadata={'input_tokens': 2867, 'output_tokens': 48, 'total_tokens': 2915, 'input_token_details': {'audio': 0, 'cache_read': 2688}, 'output_token_details': {'audio': 0, 'reasoning': 0}}\n",
      "\n",
      "Workflow Response: {'messages': [HumanMessage(content='\\n    This is a time-series dataset of utility usage for a smart home:\\n\\n    The dataset contains the following columns:\\n    use, gen, Dishwasher, Furnace_1, Furnace_2, Home_office, Fridge, Wine_cellar, Garage_door, Kitchen_12, Kitchen_14, Kitchen_38, Barn, Well, Microwave, Living_room, kitchen, Furnace\\n\\n    Column description (everything in kilowatt):\\n    \"use\" contains total energy consumption\\n    \"gen\" contains total energy generated by means of solar or other power generation resources\\n    The rest of the columns either contain energy consumed by a specific appliance or room in the house\\n\\n    Summary usage by month:\\n                    use       gen  Dishwasher  Furnace_1  Furnace_2  Home_office    Fridge  Wine_cellar  Garage_door  Kitchen_12  Kitchen_14  Kitchen_38      Barn      Well  Microwave  Living_room   kitchen   Furnace\\n    2015-12-31  0.836898  0.003448    0.000091   0.238546   0.253805     0.054039  0.060343     0.007168     0.013105    0.000596    0.000156    0.000014  0.034275  0.001016   0.004256     0.001633  0.000765  0.492352\\n    2016-01-31  1.047812  0.059034    0.039739   0.221878   0.234376     0.091420  0.055713     0.018900     0.013647    0.002872    0.007600    0.000010  0.074052  0.017327   0.009432     0.044356  0.010482  0.456255\\n    2016-02-29  0.995173  0.058891    0.031232   0.222302   0.234220     0.069926  0.053357     0.019491     0.013786    0.002907    0.006851    0.000011  0.069036  0.017568   0.007959     0.034542  0.009769  0.456522\\n    2016-03-31  0.770586  0.083415    0.034448   0.118393   0.173024     0.080134  0.053053     0.029050     0.013790    0.000656    0.008312    0.000011  0.040879  0.016721   0.008835     0.035553  0.008979  0.291417\\n    2016-04-30  0.690589  0.089860    0.030955   0.094915   0.122734     0.071471  0.057580     0.036019     0.014573    0.000613    0.006815    0.000010  0.061524  0.014753   0.011446     0.035707  0.007438  0.217649\\n    2016-05-31  0.570911  0.082698    0.026486   0.048589   0.085656     0.062082  0.059366     0.036092     0.013750    0.000808    0.005549    0.000010  0.075403  0.009305   0.009396     0.024818  0.006366  0.134245\\n    2016-06-30  0.537512  0.106605    0.026522   0.025971   0.067307     0.077959  0.069597     0.046525     0.014561    0.000836    0.005723    0.000009  0.071232  0.019061   0.008029     0.027586  0.006568  0.093277\\n    2016-07-31  1.165928  0.091958    0.026554   0.060952   0.109885     0.093516  0.079352     0.064768     0.014563    0.002790    0.006819    0.000009  0.051821  0.017802   0.011128     0.023662  0.009618  0.170838\\n    2016-08-31  1.400862  0.091221    0.031419   0.069776   0.127411     0.099653  0.084534     0.098990     0.013831    0.004962    0.007028    0.000009  0.036223  0.014269   0.013601     0.040737  0.011999  0.197187\\n    2016-09-30  0.722752  0.082260    0.030318   0.030985   0.076128     0.082817  0.074198     0.063424     0.014452    0.005606    0.006822    0.000009  0.062955  0.013834   0.010799     0.033432  0.012437  0.107113\\n    2016-10-31  0.682110  0.054308    0.030859   0.046078   0.103116     0.088901  0.061057     0.030076     0.014488    0.003710    0.007460    0.000009  0.061934  0.014195   0.014059     0.032818  0.011179  0.149193\\n    2016-11-30  0.842199  0.051300    0.032169   0.112768   0.138107     0.082647  0.056133     0.028830     0.014302    0.004504    0.008514    0.000009  0.053323  0.018005   0.011663     0.051442  0.013027  0.250875\\n    2016-12-31  0.934789  0.040754    0.033800   0.191171   0.213707     0.075729  0.051394     0.024994     0.014050    0.003543    0.007113    0.000009  0.034346  0.015905   0.009571     0.051298  0.010664  0.404878\\n\\n    Sample data:\\n    use,gen,Dishwasher,Furnace_1,Furnace_2,Home_office,Fridge,Wine_cellar,Garage_door,Kitchen_12,Kitchen_14,Kitchen_38,Barn,Well,Microwave,Living_room,kitchen,Furnace\\n    0.6316,0.003466667,3.33e-05,0.158883333,0.0639,0.0434,0.0825,0.009083333,0.012983333,0.000516667,5e-05,0.0,0.031766667,0.001033333,0.004083333,0.001616667,0.000566667,0.22278333299999997\\n    1.070016667,0.0035,0.000233333,0.497633333,0.0629,0.043583333,0.170883333,0.008883333,0.0125,0.00035,0.000216667,1.67e-05,0.0317,0.001083333,0.004083333,0.001683333,0.000583367,0.560533333\\n    1.01625,0.003466667,0.000216667,0.466683333,0.062766667,0.043533333,0.14955,0.0089,0.012566667,0.000416667,0.0002,1.67e-05,0.031733333,0.001016667,0.004083333,0.001683333,0.000633367,0.52945\\n    0.820666667,0.003466667,0.000216667,0.44695,0.062916667,0.043583333,0.0105,0.007733333,0.012616667,0.000733333,0.000333333,1.67e-05,0.031766667,0.001016667,0.0041,0.0016,0.0010833659999999999,0.509866667\\n    0.539166667,0.003516667,3.33e-05,0.100133333,0.116283333,0.043366667,0.007616667,0.007083333,0.013133333,0.000683333,5e-05,0.0,0.0318,0.001016667,0.004083333,0.001616667,0.0007333330000000001,0.216416666\\n\\n    Please answer the following questions:\\n    1. Identify any sources with an increasing trend in electricity usage over time. \\n    2. Highlight any significant outliers or anomalies.\\n', additional_kwargs={}, response_metadata={}, id='4724c413-739a-4492-afee-0a53397f8c6f'), AIMessage(content=\"To analyze the dataset for trends and anomalies, let's first address the two questions:\\n\\n1. **Sources with Increasing Trend**:\\n   - **Home Office**: There's a noticeable increase in usage starting from January 2016 (0.054 kW) peaking to higher values, like 0.099 kW in August 2016, and generally staying higher than the December 2015 value.\\n   - **Wine Cellar**: Usage significantly increases, particularly noticeable from March 2016 (0.029 kW) to August 2016 (0.099 kW).\\n   - **Fridge**: There seems to be increased usage over the months with the peak in July 2016 (0.079 kW) and August 2016 (0.085 kW).\\n   - **Microwave**: Displayed increasing usage towards the end of the period, noticeable from 0.004 kW in December 2015 to 0.014 kW in October 2016. \\n\\n2. **Significant Outliers or Anomalies**:\\n   - **July 2016**: Extremely high total usage of 1.165 kW with considerable increases in Home Office, Wine Cellar, and Fridge, which could suggest prolonged equipment use or an event requiring excessive energy.\\n   - **August 2016**: Highest consumption of 1.4 kW stands out, driven by continued high usage in areas like Fridge and Wine Cellar.\\n\\nFor **actionable insights**:\\n- **Fridge & Wine Cellar**: Consider inspecting these appliances for efficiency issues or ensure that they are only running when needed. These could have higher consumption due to operational inefficiencies or temperature setting issues.\\n- **Home Office**: If possible, try scheduling high-energy usage activities during periods of peak solar generation to offset costs.\\n- **Microwave**: Monitor usage times, reduce unnecessary long periods of operation by leveraging more efficient cooking practices.\\n\\nBy addressing these areas and monitoring the usage patterns, you could better optimize your energy usage and potentially see a reduction in your utility expenses.\", additional_kwargs={'refusal': None}, response_metadata={'token_usage': {'completion_tokens': 430, 'prompt_tokens': 2423, 'total_tokens': 2853, 'completion_tokens_details': {'accepted_prediction_tokens': 0, 'audio_tokens': 0, 'reasoning_tokens': 0, 'rejected_prediction_tokens': 0}, 'prompt_tokens_details': {'audio_tokens': 0, 'cached_tokens': 0}}, 'model_name': 'gpt-4o-2024-08-06', 'system_fingerprint': 'fp_50cad350e4', 'finish_reason': 'stop', 'logprobs': None}, id='run-7e0ba032-3209-46ca-9e84-41fb97d00456-0', usage_metadata={'input_tokens': 2423, 'output_tokens': 430, 'total_tokens': 2853, 'input_token_details': {'audio': 0, 'cache_read': 0}, 'output_token_details': {'audio': 0, 'reasoning': 0}}), HumanMessage(content='What did I just ask you?', additional_kwargs={}, response_metadata={}, id='9b53b46e-107e-48b9-9ab2-fab649675db8'), AIMessage(content='You asked me to identify any sources with an increasing trend in electricity usage over time from a time-series dataset of utility usage for a smart home. Additionally, you wanted me to highlight any significant outliers or anomalies present in the data.', additional_kwargs={'refusal': None}, response_metadata={'token_usage': {'completion_tokens': 48, 'prompt_tokens': 2867, 'total_tokens': 2915, 'completion_tokens_details': {'accepted_prediction_tokens': 0, 'audio_tokens': 0, 'reasoning_tokens': 0, 'rejected_prediction_tokens': 0}, 'prompt_tokens_details': {'audio_tokens': 0, 'cached_tokens': 2688}}, 'model_name': 'gpt-4o-2024-08-06', 'system_fingerprint': 'fp_50cad350e4', 'finish_reason': 'stop', 'logprobs': None}, id='run-54201e70-f5ef-4444-9e3c-9822804f09a6-0', usage_metadata={'input_tokens': 2867, 'output_tokens': 48, 'total_tokens': 2915, 'input_token_details': {'audio': 0, 'cache_read': 2688}, 'output_token_details': {'audio': 0, 'reasoning': 0}})]}\n"
     ]
    }
   ],
   "source": [
    "# confirm persistence\n",
    "\n",
    "with Connection.connect(DB_URI, **connection_kwargs) as conn:\n",
    "    checkpointer = PostgresSaver(conn)\n",
    "\n",
    "    # compile the workflow with the Postgres checkpointer\n",
    "    app = workflow.compile(checkpointer=checkpointer)\n",
    "\n",
    "    config = {\"configurable\": {\"thread_id\": \"5\"}}\n",
    "    input_data = {\"messages\": [(\"human\", \"What did I just ask you?\")]}\n",
    "\n",
    "    response = app.invoke(input_data, config)\n",
    "    print(\"Workflow Response:\", response)\n",
    "\n",
    "    checkpoint_tuple = checkpointer.get_tuple(config)"
   ]
  },
  {
   "cell_type": "markdown",
   "metadata": {},
   "source": []
  }
 ],
 "metadata": {
  "kernelspec": {
   "display_name": "db_venv",
   "language": "python",
   "name": "python3"
  },
  "language_info": {
   "codemirror_mode": {
    "name": "ipython",
    "version": 3
   },
   "file_extension": ".py",
   "mimetype": "text/x-python",
   "name": "python",
   "nbconvert_exporter": "python",
   "pygments_lexer": "ipython3",
   "version": "3.10.0"
  }
 },
 "nbformat": 4,
 "nbformat_minor": 2
}
